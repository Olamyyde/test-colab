{
  "nbformat": 4,
  "nbformat_minor": 0,
  "metadata": {
    "colab": {
      "name": "101-110_exercises.ipynb",
      "provenance": [],
      "collapsed_sections": [],
      "include_colab_link": true
    },
    "kernelspec": {
      "name": "python3",
      "display_name": "Python 3"
    }
  },
  "cells": [
    {
      "cell_type": "markdown",
      "metadata": {
        "id": "view-in-github",
        "colab_type": "text"
      },
      "source": [
        "<a href=\"https://colab.research.google.com/github/Olamyyde/test-colab/blob/master/101_110_exercises.ipynb\" target=\"_parent\"><img src=\"https://colab.research.google.com/assets/colab-badge.svg\" alt=\"Open In Colab\"/></a>"
      ]
    },
    {
      "cell_type": "markdown",
      "metadata": {
        "id": "WLEgCW5F1hho"
      },
      "source": [
        "## Pandas\n",
        "\n",
        "### Table of contents:\n",
        "* [Import biblioteki](#0)\n",
        "* [Exercise 101](#1)\n",
        "* [Exercise 102](#2)\n",
        "* [Exercise 103](#3)\n",
        "* [Exercise 104](#4)\n",
        "* [Exercise 105](#5)\n",
        "* [Exercise 106](#6)\n",
        "* [Exercise 107](#7)\n",
        "* [Exercise 108](#8)\n",
        "* [Exercise 109](#9)\n",
        "* [Exercise 110](#10)"
      ]
    },
    {
      "cell_type": "code",
      "metadata": {
        "id": "IO9mC-MyF6Hl"
      },
      "source": [
        "from google.colab import drive\n",
        "drive.mount('/content/drive')"
      ],
      "execution_count": null,
      "outputs": []
    },
    {
      "cell_type": "markdown",
      "metadata": {
        "id": "zeLOLmTj1kBM"
      },
      "source": [
        "### <a name='0'></a> Import of libraries"
      ]
    },
    {
      "cell_type": "code",
      "metadata": {
        "id": "HXMB7SMe1Wnz",
        "colab": {
          "base_uri": "https://localhost:8080/",
          "height": 35
        },
        "outputId": "c4a87aea-84a5-4ea8-aa83-b0c53e52e74f"
      },
      "source": [
        "import numpy as np\n",
        "import pandas as pd\n",
        " \n",
        "pd.__version__"
      ],
      "execution_count": 1,
      "outputs": [
        {
          "output_type": "execute_result",
          "data": {
            "application/vnd.google.colaboratory.intrinsic+json": {
              "type": "string"
            },
            "text/plain": [
              "'1.1.4'"
            ]
          },
          "metadata": {
            "tags": []
          },
          "execution_count": 1
        }
      ]
    },
    {
      "cell_type": "markdown",
      "metadata": {
        "id": "cyc70pMe1oCg"
      },
      "source": [
        "### <a name='1'></a> Exercise 101\n",
        "From the list below:\n",
        "```\n",
        "stocks = ['PLW', 'CDR', '11B', 'TEN']\n",
        "```\n",
        "Create a Series object.\n",
        "\n",
        "__Expected result:__\n",
        "\n",
        "```\n",
        "0    PLW\n",
        "1    CDR\n",
        "2    11B\n",
        "3    TEN\n",
        "dtype: object\n",
        "```"
      ]
    },
    {
      "cell_type": "code",
      "metadata": {
        "id": "jvw4LDdmNlin",
        "colab": {
          "base_uri": "https://localhost:8080/"
        },
        "outputId": "a52cdc34-2caa-4054-d439-5dc057bbae9b"
      },
      "source": [
        "# enter solution here\n",
        "stocks=pd.Series(['PLW', 'CDR', '11B', 'TEN'])\n",
        "stocks"
      ],
      "execution_count": null,
      "outputs": [
        {
          "output_type": "execute_result",
          "data": {
            "text/plain": [
              "0    PLW\n",
              "1    CDR\n",
              "2    11B\n",
              "3    TEN\n",
              "dtype: object"
            ]
          },
          "metadata": {
            "tags": []
          },
          "execution_count": 5
        }
      ]
    },
    {
      "cell_type": "markdown",
      "metadata": {
        "id": "J9pY1rtr1sC0"
      },
      "source": [
        "### <a name='2'></a> Exercise 102\n",
        "From the dictionary below:\n",
        "\n",
        "```\n",
        "stocks = {'PLW': 387.00, 'CDR': 339.5, 'TEN': 349.5, '11B': 391.0}\n",
        "```\n",
        "Create a Series object and assign it to the _quotations_ variable.\n",
        "\n",
        "__Expected result:__\n",
        "\n",
        "```\n",
        "PLW    387.0\n",
        "CDR    339.5\n",
        "TEN    349.5\n",
        "11B    391.0\n",
        "dtype: float64\n",
        "```\n",
        "\n"
      ]
    },
    {
      "cell_type": "code",
      "metadata": {
        "id": "IudOIn6cN0UO",
        "colab": {
          "base_uri": "https://localhost:8080/"
        },
        "outputId": "262a3e94-818f-414e-e6ad-e5580464c56f"
      },
      "source": [
        "# enter solution here\n",
        "stocks = {'PLW': 387.00, 'CDR': 339.5, 'TEN': 349.5, '11B': 391.0}\n",
        "\n",
        "quotations=pd.Series(stocks)\n",
        "quotations"
      ],
      "execution_count": null,
      "outputs": [
        {
          "output_type": "execute_result",
          "data": {
            "text/plain": [
              "PLW    387.0\n",
              "CDR    339.5\n",
              "TEN    349.5\n",
              "11B    391.0\n",
              "dtype: float64"
            ]
          },
          "metadata": {
            "tags": []
          },
          "execution_count": 12
        }
      ]
    },
    {
      "cell_type": "markdown",
      "metadata": {
        "id": "XQLYT2m11wVG"
      },
      "source": [
        "### <a name='3'></a> Exercise 103\n",
        "\n",
        "Convert _quotations_ to a list.\n",
        "\n",
        "__Expected result:__\n",
        "```\n",
        "[387.0, 339.5, 349.5, 391.0]\n",
        "```"
      ]
    },
    {
      "cell_type": "code",
      "metadata": {
        "id": "JDz_gfbcOBKG",
        "colab": {
          "base_uri": "https://localhost:8080/"
        },
        "outputId": "4bf26eff-2c2d-42bd-fc8e-7cff7fd4810f"
      },
      "source": [
        "# enter solution here\n",
        "list(quotations)"
      ],
      "execution_count": null,
      "outputs": [
        {
          "output_type": "execute_result",
          "data": {
            "text/plain": [
              "[387.0, 339.5, 349.5, 391.0]"
            ]
          },
          "metadata": {
            "tags": []
          },
          "execution_count": 8
        }
      ]
    },
    {
      "cell_type": "code",
      "metadata": {
        "id": "ymCCg5df9aDQ",
        "colab": {
          "base_uri": "https://localhost:8080/"
        },
        "outputId": "6cab3ed1-b5a1-415c-bca2-849715864506"
      },
      "source": [
        "quotations.tolist()"
      ],
      "execution_count": null,
      "outputs": [
        {
          "output_type": "execute_result",
          "data": {
            "text/plain": [
              "[387.0, 339.5, 349.5, 391.0]"
            ]
          },
          "metadata": {
            "tags": []
          },
          "execution_count": 9
        }
      ]
    },
    {
      "cell_type": "markdown",
      "metadata": {
        "id": "4xTKSUzg10MK"
      },
      "source": [
        "### <a name='4'></a> Exercise 104\n",
        "Convert the _quotations_ object to the _DataFrame_ object. Set the column name to _price_."
      ]
    },
    {
      "cell_type": "code",
      "metadata": {
        "id": "QyrLUIQVOI0I",
        "colab": {
          "base_uri": "https://localhost:8080/",
          "height": 162
        },
        "outputId": "58069cf1-69dd-4290-81af-e1f96e335f4f"
      },
      "source": [
        "# enter solution here\n",
        "pd.DataFrame(quotations, columns=['price'])"
      ],
      "execution_count": null,
      "outputs": [
        {
          "output_type": "execute_result",
          "data": {
            "text/html": [
              "<div>\n",
              "<style scoped>\n",
              "    .dataframe tbody tr th:only-of-type {\n",
              "        vertical-align: middle;\n",
              "    }\n",
              "\n",
              "    .dataframe tbody tr th {\n",
              "        vertical-align: top;\n",
              "    }\n",
              "\n",
              "    .dataframe thead th {\n",
              "        text-align: right;\n",
              "    }\n",
              "</style>\n",
              "<table border=\"1\" class=\"dataframe\">\n",
              "  <thead>\n",
              "    <tr style=\"text-align: right;\">\n",
              "      <th></th>\n",
              "      <th>price</th>\n",
              "    </tr>\n",
              "  </thead>\n",
              "  <tbody>\n",
              "    <tr>\n",
              "      <th>PLW</th>\n",
              "      <td>387.0</td>\n",
              "    </tr>\n",
              "    <tr>\n",
              "      <th>CDR</th>\n",
              "      <td>339.5</td>\n",
              "    </tr>\n",
              "    <tr>\n",
              "      <th>TEN</th>\n",
              "      <td>349.5</td>\n",
              "    </tr>\n",
              "    <tr>\n",
              "      <th>11B</th>\n",
              "      <td>391.0</td>\n",
              "    </tr>\n",
              "  </tbody>\n",
              "</table>\n",
              "</div>"
            ],
            "text/plain": [
              "     price\n",
              "PLW  387.0\n",
              "CDR  339.5\n",
              "TEN  349.5\n",
              "11B  391.0"
            ]
          },
          "metadata": {
            "tags": []
          },
          "execution_count": 15
        }
      ]
    },
    {
      "cell_type": "markdown",
      "metadata": {
        "id": "o3HKIKlP15Ro"
      },
      "source": [
        "### <a name='5'></a> Exercise 105\n",
        "Using the _numpy_ library, build the following _Series_ object:\n",
        "\n",
        "```\n",
        "101    10.0\n",
        "102    20.0\n",
        "103    30.0\n",
        "104    40.0\n",
        "105    50.0\n",
        "106    60.0\n",
        "107    70.0\n",
        "108    80.0\n",
        "109    90.0\n",
        "dtype: float64\n",
        "```"
      ]
    },
    {
      "cell_type": "code",
      "metadata": {
        "id": "OAEIMF61OOWQ",
        "colab": {
          "base_uri": "https://localhost:8080/"
        },
        "outputId": "16c72033-f8d8-43e8-f938-01028728a091"
      },
      "source": [
        "# enter solution here\n",
        "pd.Series(np.arange(10,100,10), index=np.arange(101,110), dtype='float')"
      ],
      "execution_count": null,
      "outputs": [
        {
          "output_type": "execute_result",
          "data": {
            "text/plain": [
              "101    10.0\n",
              "102    20.0\n",
              "103    30.0\n",
              "104    40.0\n",
              "105    50.0\n",
              "106    60.0\n",
              "107    70.0\n",
              "108    80.0\n",
              "109    90.0\n",
              "dtype: float64"
            ]
          },
          "metadata": {
            "tags": []
          },
          "execution_count": 17
        }
      ]
    },
    {
      "cell_type": "markdown",
      "metadata": {
        "id": "PunXd_Ey16so"
      },
      "source": [
        "### <a name='6'></a> Exercise 106\n",
        "The following object of type _Series_ is given:\n",
        "```\n",
        "series = pd.Series(['001', '002', '003', '004'], list('abcd'))\n",
        "```\n",
        "Convert object type _series_ to _int_ values.\n",
        "\n"
      ]
    },
    {
      "cell_type": "code",
      "metadata": {
        "id": "FeWykLVAOm3t",
        "colab": {
          "base_uri": "https://localhost:8080/"
        },
        "outputId": "2100f4ea-04d8-4b04-e6ae-00d924828137"
      },
      "source": [
        "# enter solution here\n",
        "series = pd.Series(['001', '002', '003', '004'], list('abcd'))\n",
        "\n",
        "series.astype(int)"
      ],
      "execution_count": null,
      "outputs": [
        {
          "output_type": "execute_result",
          "data": {
            "text/plain": [
              "a    1\n",
              "b    2\n",
              "c    3\n",
              "d    4\n",
              "dtype: int64"
            ]
          },
          "metadata": {
            "tags": []
          },
          "execution_count": 18
        }
      ]
    },
    {
      "cell_type": "markdown",
      "metadata": {
        "id": "_6bOUH4SOqse"
      },
      "source": [
        "Convert object type _series_ to _float_ values."
      ]
    },
    {
      "cell_type": "code",
      "metadata": {
        "id": "gDBgJSQPOsYC",
        "colab": {
          "base_uri": "https://localhost:8080/"
        },
        "outputId": "4bc664a2-dc5d-47be-9575-f0963ac5b16e"
      },
      "source": [
        "# enter solution here\n",
        "series.astype(float)"
      ],
      "execution_count": null,
      "outputs": [
        {
          "output_type": "execute_result",
          "data": {
            "text/plain": [
              "a    1.0\n",
              "b    2.0\n",
              "c    3.0\n",
              "d    4.0\n",
              "dtype: float64"
            ]
          },
          "metadata": {
            "tags": []
          },
          "execution_count": 19
        }
      ]
    },
    {
      "cell_type": "markdown",
      "metadata": {
        "id": "hOhqDRz618Tx"
      },
      "source": [
        "### <a name='7'></a> Exercise 107\n",
        "To the following _quotations_ object:\n",
        "```\n",
        "stocks = {'PLW': 387.00, 'CDR': 339.5, 'TEN': 349.5, '11B': 391.0}\n",
        "quotations = pd.Series(data=stocks)\n",
        "```\n",
        "Add two elements:\n",
        "* key: BBT, value: 25.5\n",
        "* key: F51, value: 19.2\n",
        "\n",
        "__Expected result:__\n",
        "```\n",
        "PLW    387.0\n",
        "CDR    339.5\n",
        "TEN    349.5\n",
        "11B    391.0\n",
        "BBT     25.5\n",
        "F51     19.2\n",
        "dtype: float64\n",
        "```\n"
      ]
    },
    {
      "cell_type": "code",
      "metadata": {
        "id": "rNm1p2iGPA_T",
        "outputId": "3aaa5881-4654-4c01-ec67-bfe8a75d13e0",
        "colab": {
          "base_uri": "https://localhost:8080/"
        }
      },
      "source": [
        "# enter solution here\n",
        " \n",
        "stocks = {'PLW': 387.00, 'CDR': 339.5, 'TEN': 349.5, '11B': 391.0}\n",
        "quotations = pd.Series(data=stocks)\n",
        " \n",
        "quotations = quotations.append(pd.Series({'BBT':25.5, 'F51':19.2})) \n",
        "quotations"
      ],
      "execution_count": 8,
      "outputs": [
        {
          "output_type": "execute_result",
          "data": {
            "text/plain": [
              "PLW    387.0\n",
              "CDR    339.5\n",
              "TEN    349.5\n",
              "11B    391.0\n",
              "BBT     25.5\n",
              "F51     19.2\n",
              "dtype: float64"
            ]
          },
          "metadata": {
            "tags": []
          },
          "execution_count": 8
        }
      ]
    },
    {
      "cell_type": "markdown",
      "metadata": {
        "id": "TXUd_4631-gw"
      },
      "source": [
        "### <a name='8'></a> Exercise 108\n",
        "Convert the _quotations_ object from the previous exercise to an _DataFrame_ object. Reset the index and name the columns '_ticker_' and _'price'_."
      ]
    },
    {
      "cell_type": "code",
      "metadata": {
        "id": "v3VyxIyDPHIB",
        "outputId": "db27ad05-2243-489a-ae17-b6581b09552a",
        "colab": {
          "base_uri": "https://localhost:8080/",
          "height": 234
        }
      },
      "source": [
        "# enter solution here\n",
        "quotations = pd.DataFrame(quotations).reset_index()\n",
        " \n",
        "quotations.columns = ['ticker', 'price'] \n",
        " \n",
        "quotations"
      ],
      "execution_count": 9,
      "outputs": [
        {
          "output_type": "execute_result",
          "data": {
            "text/html": [
              "<div>\n",
              "<style scoped>\n",
              "    .dataframe tbody tr th:only-of-type {\n",
              "        vertical-align: middle;\n",
              "    }\n",
              "\n",
              "    .dataframe tbody tr th {\n",
              "        vertical-align: top;\n",
              "    }\n",
              "\n",
              "    .dataframe thead th {\n",
              "        text-align: right;\n",
              "    }\n",
              "</style>\n",
              "<table border=\"1\" class=\"dataframe\">\n",
              "  <thead>\n",
              "    <tr style=\"text-align: right;\">\n",
              "      <th></th>\n",
              "      <th>ticker</th>\n",
              "      <th>price</th>\n",
              "    </tr>\n",
              "  </thead>\n",
              "  <tbody>\n",
              "    <tr>\n",
              "      <th>0</th>\n",
              "      <td>PLW</td>\n",
              "      <td>387.0</td>\n",
              "    </tr>\n",
              "    <tr>\n",
              "      <th>1</th>\n",
              "      <td>CDR</td>\n",
              "      <td>339.5</td>\n",
              "    </tr>\n",
              "    <tr>\n",
              "      <th>2</th>\n",
              "      <td>TEN</td>\n",
              "      <td>349.5</td>\n",
              "    </tr>\n",
              "    <tr>\n",
              "      <th>3</th>\n",
              "      <td>11B</td>\n",
              "      <td>391.0</td>\n",
              "    </tr>\n",
              "    <tr>\n",
              "      <th>4</th>\n",
              "      <td>BBT</td>\n",
              "      <td>25.5</td>\n",
              "    </tr>\n",
              "    <tr>\n",
              "      <th>5</th>\n",
              "      <td>F51</td>\n",
              "      <td>19.2</td>\n",
              "    </tr>\n",
              "  </tbody>\n",
              "</table>\n",
              "</div>"
            ],
            "text/plain": [
              "  ticker  price\n",
              "0    PLW  387.0\n",
              "1    CDR  339.5\n",
              "2    TEN  349.5\n",
              "3    11B  391.0\n",
              "4    BBT   25.5\n",
              "5    F51   19.2"
            ]
          },
          "metadata": {
            "tags": []
          },
          "execution_count": 9
        }
      ]
    },
    {
      "cell_type": "markdown",
      "metadata": {
        "id": "tgI6xEn-2AQo"
      },
      "source": [
        "### <a name='9'></a> Exercise 109\n",
        "\n",
        "Build the _DataFrame_ object below and assign it to the _companies_ variable:\n",
        "\n",
        "|    | company   |   price | ticker   |\n",
        "|---:|:----------|--------:|:---------|\n",
        "|  0 | Amazon    |  2375   | AMZN.US  |\n",
        "|  1 | Microsoft |   178.6 | MSFT.US  |\n",
        "|  2 | Facebook  |   179.2 | FB.US    |\n"
      ]
    },
    {
      "cell_type": "code",
      "metadata": {
        "id": "_9M05ezFPOVz"
      },
      "source": [
        "# enter solution here"
      ],
      "execution_count": null,
      "outputs": []
    },
    {
      "cell_type": "markdown",
      "metadata": {
        "id": "wxhpf-uq2B1I"
      },
      "source": [
        "### <a name='10'></a> Exercise 110\n",
        "Convert the first column of the _companies_ object to an index.\n"
      ]
    },
    {
      "cell_type": "code",
      "metadata": {
        "id": "YFc0KW6URsuc"
      },
      "source": [
        "# enter solution here"
      ],
      "execution_count": null,
      "outputs": []
    },
    {
      "cell_type": "markdown",
      "metadata": {
        "id": "nW_9JLS5PVSu"
      },
      "source": [
        "Extract row for company _Facebook_ from object _companies_."
      ]
    },
    {
      "cell_type": "code",
      "metadata": {
        "id": "iDCnF7iUPTJf"
      },
      "source": [
        "# enter solution here"
      ],
      "execution_count": null,
      "outputs": []
    },
    {
      "cell_type": "markdown",
      "metadata": {
        "id": "D1qn3t5HPZwg"
      },
      "source": [
        "Extract price for _Microsoft_"
      ]
    },
    {
      "cell_type": "code",
      "metadata": {
        "id": "FcPjSj7dPXwn"
      },
      "source": [
        "# enter solution here"
      ],
      "execution_count": null,
      "outputs": []
    }
  ]
}