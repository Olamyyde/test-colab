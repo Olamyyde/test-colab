{
  "nbformat": 4,
  "nbformat_minor": 0,
  "metadata": {
    "colab": {
      "name": "121-130_exercises.ipynb",
      "provenance": [],
      "collapsed_sections": [],
      "include_colab_link": true
    },
    "kernelspec": {
      "name": "python3",
      "display_name": "Python 3"
    }
  },
  "cells": [
    {
      "cell_type": "markdown",
      "metadata": {
        "id": "view-in-github",
        "colab_type": "text"
      },
      "source": [
        "<a href=\"https://colab.research.google.com/github/Olamyyde/test-colab/blob/master/121_130_exercises.ipynb\" target=\"_parent\"><img src=\"https://colab.research.google.com/assets/colab-badge.svg\" alt=\"Open In Colab\"/></a>"
      ]
    },
    {
      "cell_type": "markdown",
      "metadata": {
        "id": "WLEgCW5F1hho"
      },
      "source": [
        "## Pandas\n",
        "\n",
        "### Table of contents:\n",
        "* [Import biblioteki](#0)\n",
        "* [Exercise 121](#1)\n",
        "* [Exercise 122](#2)\n",
        "* [Exercise 123](#3)\n",
        "* [Exercise 124](#4)\n",
        "* [Exercise 125](#5)\n",
        "* [Exercise 126](#6)\n",
        "* [Exercise 127](#7)\n",
        "* [Exercise 128](#8)\n",
        "* [Exercise 129](#9)\n",
        "* [Exercise 130](#10)"
      ]
    },
    {
      "cell_type": "markdown",
      "metadata": {
        "id": "zeLOLmTj1kBM"
      },
      "source": [
        "### <a name='0'></a> Import of libraries"
      ]
    },
    {
      "cell_type": "code",
      "metadata": {
        "id": "HXMB7SMe1Wnz",
        "colab": {
          "base_uri": "https://localhost:8080/",
          "height": 35
        },
        "outputId": "ac1c29e3-333b-4ccb-a3ff-ad1963e80d8e"
      },
      "source": [
        "import numpy as np\n",
        "import pandas as pd\n",
        "import seaborn as sns\n",
        "\n",
        "sns.set()\n",
        "np.__version__"
      ],
      "execution_count": 12,
      "outputs": [
        {
          "output_type": "execute_result",
          "data": {
            "application/vnd.google.colaboratory.intrinsic+json": {
              "type": "string"
            },
            "text/plain": [
              "'1.18.5'"
            ]
          },
          "metadata": {
            "tags": []
          },
          "execution_count": 12
        }
      ]
    },
    {
      "cell_type": "markdown",
      "metadata": {
        "id": "XHC7OOdSWAp-"
      },
      "source": [
        "The _fetch_financial_data()_ function fetches data on listed companies. It will be used in the following exercises. To download data of a specific company, you must provide the ticker (symbol) of the company.\n",
        "\n",
        "Some sample company tickers:\n",
        "* AMZN - Amazon\n",
        "* GOOGL - Google\n",
        "* MSFT - Microsoft\n",
        "* AAPL - Apple\n",
        "* NKE - Nike\n",
        "* WMT - Walmart"
      ]
    },
    {
      "cell_type": "code",
      "metadata": {
        "id": "Cco5py75WIi3"
      },
      "source": [
        "def fetch_financial_data(company='AMZN'):\n",
        "    \"\"\"\n",
        "    This function fetches stock market quotations.\n",
        "    \"\"\"\n",
        "    import pandas_datareader.data as web\n",
        "    return web.DataReader(name=company, data_source='stooq')"
      ],
      "execution_count": 13,
      "outputs": []
    },
    {
      "cell_type": "markdown",
      "metadata": {
        "id": "cyc70pMe1oCg"
      },
      "source": [
        "### <a name='1'></a> Exercise 121\n",
        "Using the _fetch_financial_data()_ function, download Google (Alphabet) quotes and assign to the variable _google_. Display object _google_."
      ]
    },
    {
      "cell_type": "code",
      "metadata": {
        "id": "-X_EmE0yWZJy",
        "colab": {
          "base_uri": "https://localhost:8080/",
          "height": 420
        },
        "outputId": "0ecd5239-b4f2-443f-ed81-c5787357f75c"
      },
      "source": [
        "# enter solution here\n",
        "google=fetch_financial_data('GOOGL')\n",
        "google"
      ],
      "execution_count": 14,
      "outputs": [
        {
          "output_type": "execute_result",
          "data": {
            "text/html": [
              "<div>\n",
              "<style scoped>\n",
              "    .dataframe tbody tr th:only-of-type {\n",
              "        vertical-align: middle;\n",
              "    }\n",
              "\n",
              "    .dataframe tbody tr th {\n",
              "        vertical-align: top;\n",
              "    }\n",
              "\n",
              "    .dataframe thead th {\n",
              "        text-align: right;\n",
              "    }\n",
              "</style>\n",
              "<table border=\"1\" class=\"dataframe\">\n",
              "  <thead>\n",
              "    <tr style=\"text-align: right;\">\n",
              "      <th></th>\n",
              "      <th>Open</th>\n",
              "      <th>High</th>\n",
              "      <th>Low</th>\n",
              "      <th>Close</th>\n",
              "      <th>Volume</th>\n",
              "    </tr>\n",
              "    <tr>\n",
              "      <th>Date</th>\n",
              "      <th></th>\n",
              "      <th></th>\n",
              "      <th></th>\n",
              "      <th></th>\n",
              "      <th></th>\n",
              "    </tr>\n",
              "  </thead>\n",
              "  <tbody>\n",
              "    <tr>\n",
              "      <th>2020-12-04</th>\n",
              "      <td>1820.22</td>\n",
              "      <td>1829.50</td>\n",
              "      <td>1813.59</td>\n",
              "      <td>1823.76</td>\n",
              "      <td>1027242</td>\n",
              "    </tr>\n",
              "    <tr>\n",
              "      <th>2020-12-03</th>\n",
              "      <td>1820.54</td>\n",
              "      <td>1843.83</td>\n",
              "      <td>1817.00</td>\n",
              "      <td>1821.84</td>\n",
              "      <td>1236366</td>\n",
              "    </tr>\n",
              "    <tr>\n",
              "      <th>2020-12-02</th>\n",
              "      <td>1795.36</td>\n",
              "      <td>1832.74</td>\n",
              "      <td>1785.17</td>\n",
              "      <td>1824.97</td>\n",
              "      <td>1471235</td>\n",
              "    </tr>\n",
              "    <tr>\n",
              "      <th>2020-12-01</th>\n",
              "      <td>1766.65</td>\n",
              "      <td>1821.72</td>\n",
              "      <td>1763.03</td>\n",
              "      <td>1795.36</td>\n",
              "      <td>1868134</td>\n",
              "    </tr>\n",
              "    <tr>\n",
              "      <th>2020-11-30</th>\n",
              "      <td>1775.65</td>\n",
              "      <td>1780.34</td>\n",
              "      <td>1747.84</td>\n",
              "      <td>1754.40</td>\n",
              "      <td>1620887</td>\n",
              "    </tr>\n",
              "    <tr>\n",
              "      <th>...</th>\n",
              "      <td>...</td>\n",
              "      <td>...</td>\n",
              "      <td>...</td>\n",
              "      <td>...</td>\n",
              "      <td>...</td>\n",
              "    </tr>\n",
              "    <tr>\n",
              "      <th>2015-12-11</th>\n",
              "      <td>749.00</td>\n",
              "      <td>757.44</td>\n",
              "      <td>748.65</td>\n",
              "      <td>750.42</td>\n",
              "      <td>2159100</td>\n",
              "    </tr>\n",
              "    <tr>\n",
              "      <th>2015-12-10</th>\n",
              "      <td>763.59</td>\n",
              "      <td>766.07</td>\n",
              "      <td>755.00</td>\n",
              "      <td>760.04</td>\n",
              "      <td>1622900</td>\n",
              "    </tr>\n",
              "    <tr>\n",
              "      <th>2015-12-09</th>\n",
              "      <td>771.10</td>\n",
              "      <td>776.09</td>\n",
              "      <td>752.01</td>\n",
              "      <td>762.55</td>\n",
              "      <td>2327400</td>\n",
              "    </tr>\n",
              "    <tr>\n",
              "      <th>2015-12-08</th>\n",
              "      <td>764.50</td>\n",
              "      <td>778.65</td>\n",
              "      <td>762.52</td>\n",
              "      <td>775.14</td>\n",
              "      <td>1554121</td>\n",
              "    </tr>\n",
              "    <tr>\n",
              "      <th>2015-12-07</th>\n",
              "      <td>780.06</td>\n",
              "      <td>781.00</td>\n",
              "      <td>766.72</td>\n",
              "      <td>772.99</td>\n",
              "      <td>1831200</td>\n",
              "    </tr>\n",
              "  </tbody>\n",
              "</table>\n",
              "<p>1259 rows × 5 columns</p>\n",
              "</div>"
            ],
            "text/plain": [
              "              Open    High     Low   Close   Volume\n",
              "Date                                               \n",
              "2020-12-04 1820.22 1829.50 1813.59 1823.76  1027242\n",
              "2020-12-03 1820.54 1843.83 1817.00 1821.84  1236366\n",
              "2020-12-02 1795.36 1832.74 1785.17 1824.97  1471235\n",
              "2020-12-01 1766.65 1821.72 1763.03 1795.36  1868134\n",
              "2020-11-30 1775.65 1780.34 1747.84 1754.40  1620887\n",
              "...            ...     ...     ...     ...      ...\n",
              "2015-12-11  749.00  757.44  748.65  750.42  2159100\n",
              "2015-12-10  763.59  766.07  755.00  760.04  1622900\n",
              "2015-12-09  771.10  776.09  752.01  762.55  2327400\n",
              "2015-12-08  764.50  778.65  762.52  775.14  1554121\n",
              "2015-12-07  780.06  781.00  766.72  772.99  1831200\n",
              "\n",
              "[1259 rows x 5 columns]"
            ]
          },
          "metadata": {
            "tags": []
          },
          "execution_count": 14
        }
      ]
    },
    {
      "cell_type": "markdown",
      "metadata": {
        "id": "J9pY1rtr1sC0"
      },
      "source": [
        "### <a name='2'></a> Exercise 122\n",
        "Display basic information about _google_ object."
      ]
    },
    {
      "cell_type": "code",
      "metadata": {
        "id": "jYe-jwFgWhRj",
        "colab": {
          "base_uri": "https://localhost:8080/"
        },
        "outputId": "34af99a1-e7cc-4b1e-e95b-8cc1a5a76a25"
      },
      "source": [
        "# enter solution here\n",
        "google.info()"
      ],
      "execution_count": 15,
      "outputs": [
        {
          "output_type": "stream",
          "text": [
            "<class 'pandas.core.frame.DataFrame'>\n",
            "DatetimeIndex: 1259 entries, 2020-12-04 to 2015-12-07\n",
            "Data columns (total 5 columns):\n",
            " #   Column  Non-Null Count  Dtype  \n",
            "---  ------  --------------  -----  \n",
            " 0   Open    1259 non-null   float64\n",
            " 1   High    1259 non-null   float64\n",
            " 2   Low     1259 non-null   float64\n",
            " 3   Close   1259 non-null   float64\n",
            " 4   Volume  1259 non-null   int64  \n",
            "dtypes: float64(4), int64(1)\n",
            "memory usage: 59.0 KB\n"
          ],
          "name": "stdout"
        }
      ]
    },
    {
      "cell_type": "markdown",
      "metadata": {
        "id": "qXa0-U9nWkUy"
      },
      "source": [
        "Display basic statistics for _google_."
      ]
    },
    {
      "cell_type": "code",
      "metadata": {
        "id": "wOPx2ufcWnMl",
        "colab": {
          "base_uri": "https://localhost:8080/",
          "height": 277
        },
        "outputId": "f11a719b-ee2e-4060-a8e0-0b7d032429e6"
      },
      "source": [
        "# enter solution here\n",
        "google.describe()"
      ],
      "execution_count": 16,
      "outputs": [
        {
          "output_type": "execute_result",
          "data": {
            "text/html": [
              "<div>\n",
              "<style scoped>\n",
              "    .dataframe tbody tr th:only-of-type {\n",
              "        vertical-align: middle;\n",
              "    }\n",
              "\n",
              "    .dataframe tbody tr th {\n",
              "        vertical-align: top;\n",
              "    }\n",
              "\n",
              "    .dataframe thead th {\n",
              "        text-align: right;\n",
              "    }\n",
              "</style>\n",
              "<table border=\"1\" class=\"dataframe\">\n",
              "  <thead>\n",
              "    <tr style=\"text-align: right;\">\n",
              "      <th></th>\n",
              "      <th>Open</th>\n",
              "      <th>High</th>\n",
              "      <th>Low</th>\n",
              "      <th>Close</th>\n",
              "      <th>Volume</th>\n",
              "    </tr>\n",
              "  </thead>\n",
              "  <tbody>\n",
              "    <tr>\n",
              "      <th>count</th>\n",
              "      <td>1259.00</td>\n",
              "      <td>1259.00</td>\n",
              "      <td>1259.00</td>\n",
              "      <td>1259.00</td>\n",
              "      <td>1259.00</td>\n",
              "    </tr>\n",
              "    <tr>\n",
              "      <th>mean</th>\n",
              "      <td>1084.93</td>\n",
              "      <td>1095.35</td>\n",
              "      <td>1074.49</td>\n",
              "      <td>1085.34</td>\n",
              "      <td>1750984.42</td>\n",
              "    </tr>\n",
              "    <tr>\n",
              "      <th>std</th>\n",
              "      <td>251.23</td>\n",
              "      <td>255.26</td>\n",
              "      <td>248.28</td>\n",
              "      <td>251.88</td>\n",
              "      <td>858683.75</td>\n",
              "    </tr>\n",
              "    <tr>\n",
              "      <th>min</th>\n",
              "      <td>682.49</td>\n",
              "      <td>683.33</td>\n",
              "      <td>672.66</td>\n",
              "      <td>681.14</td>\n",
              "      <td>521141.00</td>\n",
              "    </tr>\n",
              "    <tr>\n",
              "      <th>25%</th>\n",
              "      <td>847.31</td>\n",
              "      <td>851.55</td>\n",
              "      <td>842.73</td>\n",
              "      <td>849.00</td>\n",
              "      <td>1204223.50</td>\n",
              "    </tr>\n",
              "    <tr>\n",
              "      <th>50%</th>\n",
              "      <td>1083.49</td>\n",
              "      <td>1094.75</td>\n",
              "      <td>1070.37</td>\n",
              "      <td>1084.01</td>\n",
              "      <td>1536653.00</td>\n",
              "    </tr>\n",
              "    <tr>\n",
              "      <th>75%</th>\n",
              "      <td>1223.24</td>\n",
              "      <td>1236.11</td>\n",
              "      <td>1213.53</td>\n",
              "      <td>1222.34</td>\n",
              "      <td>2005649.00</td>\n",
              "    </tr>\n",
              "    <tr>\n",
              "      <th>max</th>\n",
              "      <td>1820.54</td>\n",
              "      <td>1843.83</td>\n",
              "      <td>1817.00</td>\n",
              "      <td>1824.97</td>\n",
              "      <td>6658855.00</td>\n",
              "    </tr>\n",
              "  </tbody>\n",
              "</table>\n",
              "</div>"
            ],
            "text/plain": [
              "         Open    High     Low   Close     Volume\n",
              "count 1259.00 1259.00 1259.00 1259.00    1259.00\n",
              "mean  1084.93 1095.35 1074.49 1085.34 1750984.42\n",
              "std    251.23  255.26  248.28  251.88  858683.75\n",
              "min    682.49  683.33  672.66  681.14  521141.00\n",
              "25%    847.31  851.55  842.73  849.00 1204223.50\n",
              "50%   1083.49 1094.75 1070.37 1084.01 1536653.00\n",
              "75%   1223.24 1236.11 1213.53 1222.34 2005649.00\n",
              "max   1820.54 1843.83 1817.00 1824.97 6658855.00"
            ]
          },
          "metadata": {
            "tags": []
          },
          "execution_count": 16
        }
      ]
    },
    {
      "cell_type": "markdown",
      "metadata": {
        "id": "eYd_y8_TWro3"
      },
      "source": [
        "Note the precision of individual statistics.\n",
        "Try setting the appropriate _pandas_ library options to display data with two decimal places.\n",
        "\n",
        "__Tip:__ \n",
        "https://pandas.pydata.org/pandas-docs/stable/user_guide/options.html"
      ]
    },
    {
      "cell_type": "code",
      "metadata": {
        "id": "zHXcFbuEWyBC",
        "colab": {
          "base_uri": "https://localhost:8080/",
          "height": 277
        },
        "outputId": "1c8ebd28-7739-483f-f6d7-6e64738c582e"
      },
      "source": [
        "# enter solution here\n",
        "pd.set_option('precision', 2)\n",
        "google.describe()"
      ],
      "execution_count": 17,
      "outputs": [
        {
          "output_type": "execute_result",
          "data": {
            "text/html": [
              "<div>\n",
              "<style scoped>\n",
              "    .dataframe tbody tr th:only-of-type {\n",
              "        vertical-align: middle;\n",
              "    }\n",
              "\n",
              "    .dataframe tbody tr th {\n",
              "        vertical-align: top;\n",
              "    }\n",
              "\n",
              "    .dataframe thead th {\n",
              "        text-align: right;\n",
              "    }\n",
              "</style>\n",
              "<table border=\"1\" class=\"dataframe\">\n",
              "  <thead>\n",
              "    <tr style=\"text-align: right;\">\n",
              "      <th></th>\n",
              "      <th>Open</th>\n",
              "      <th>High</th>\n",
              "      <th>Low</th>\n",
              "      <th>Close</th>\n",
              "      <th>Volume</th>\n",
              "    </tr>\n",
              "  </thead>\n",
              "  <tbody>\n",
              "    <tr>\n",
              "      <th>count</th>\n",
              "      <td>1259.00</td>\n",
              "      <td>1259.00</td>\n",
              "      <td>1259.00</td>\n",
              "      <td>1259.00</td>\n",
              "      <td>1259.00</td>\n",
              "    </tr>\n",
              "    <tr>\n",
              "      <th>mean</th>\n",
              "      <td>1084.93</td>\n",
              "      <td>1095.35</td>\n",
              "      <td>1074.49</td>\n",
              "      <td>1085.34</td>\n",
              "      <td>1750984.42</td>\n",
              "    </tr>\n",
              "    <tr>\n",
              "      <th>std</th>\n",
              "      <td>251.23</td>\n",
              "      <td>255.26</td>\n",
              "      <td>248.28</td>\n",
              "      <td>251.88</td>\n",
              "      <td>858683.75</td>\n",
              "    </tr>\n",
              "    <tr>\n",
              "      <th>min</th>\n",
              "      <td>682.49</td>\n",
              "      <td>683.33</td>\n",
              "      <td>672.66</td>\n",
              "      <td>681.14</td>\n",
              "      <td>521141.00</td>\n",
              "    </tr>\n",
              "    <tr>\n",
              "      <th>25%</th>\n",
              "      <td>847.31</td>\n",
              "      <td>851.55</td>\n",
              "      <td>842.73</td>\n",
              "      <td>849.00</td>\n",
              "      <td>1204223.50</td>\n",
              "    </tr>\n",
              "    <tr>\n",
              "      <th>50%</th>\n",
              "      <td>1083.49</td>\n",
              "      <td>1094.75</td>\n",
              "      <td>1070.37</td>\n",
              "      <td>1084.01</td>\n",
              "      <td>1536653.00</td>\n",
              "    </tr>\n",
              "    <tr>\n",
              "      <th>75%</th>\n",
              "      <td>1223.24</td>\n",
              "      <td>1236.11</td>\n",
              "      <td>1213.53</td>\n",
              "      <td>1222.34</td>\n",
              "      <td>2005649.00</td>\n",
              "    </tr>\n",
              "    <tr>\n",
              "      <th>max</th>\n",
              "      <td>1820.54</td>\n",
              "      <td>1843.83</td>\n",
              "      <td>1817.00</td>\n",
              "      <td>1824.97</td>\n",
              "      <td>6658855.00</td>\n",
              "    </tr>\n",
              "  </tbody>\n",
              "</table>\n",
              "</div>"
            ],
            "text/plain": [
              "         Open    High     Low   Close     Volume\n",
              "count 1259.00 1259.00 1259.00 1259.00    1259.00\n",
              "mean  1084.93 1095.35 1074.49 1085.34 1750984.42\n",
              "std    251.23  255.26  248.28  251.88  858683.75\n",
              "min    682.49  683.33  672.66  681.14  521141.00\n",
              "25%    847.31  851.55  842.73  849.00 1204223.50\n",
              "50%   1083.49 1094.75 1070.37 1084.01 1536653.00\n",
              "75%   1223.24 1236.11 1213.53 1222.34 2005649.00\n",
              "max   1820.54 1843.83 1817.00 1824.97 6658855.00"
            ]
          },
          "metadata": {
            "tags": []
          },
          "execution_count": 17
        }
      ]
    },
    {
      "cell_type": "markdown",
      "metadata": {
        "id": "_PTZL5EXW0Fk"
      },
      "source": [
        "__Additionally:__\n",
        "The following setting will also suppress mathematical notation (see column _Volume_)."
      ]
    },
    {
      "cell_type": "code",
      "metadata": {
        "id": "mKi0XqaWW3zC",
        "colab": {
          "base_uri": "https://localhost:8080/",
          "height": 277
        },
        "outputId": "f051761c-b327-451d-ec2f-1045abbf0752"
      },
      "source": [
        "pd.options.display.float_format = '{:.2f}'.format\n",
        "google.describe()"
      ],
      "execution_count": 18,
      "outputs": [
        {
          "output_type": "execute_result",
          "data": {
            "text/html": [
              "<div>\n",
              "<style scoped>\n",
              "    .dataframe tbody tr th:only-of-type {\n",
              "        vertical-align: middle;\n",
              "    }\n",
              "\n",
              "    .dataframe tbody tr th {\n",
              "        vertical-align: top;\n",
              "    }\n",
              "\n",
              "    .dataframe thead th {\n",
              "        text-align: right;\n",
              "    }\n",
              "</style>\n",
              "<table border=\"1\" class=\"dataframe\">\n",
              "  <thead>\n",
              "    <tr style=\"text-align: right;\">\n",
              "      <th></th>\n",
              "      <th>Open</th>\n",
              "      <th>High</th>\n",
              "      <th>Low</th>\n",
              "      <th>Close</th>\n",
              "      <th>Volume</th>\n",
              "    </tr>\n",
              "  </thead>\n",
              "  <tbody>\n",
              "    <tr>\n",
              "      <th>count</th>\n",
              "      <td>1259.00</td>\n",
              "      <td>1259.00</td>\n",
              "      <td>1259.00</td>\n",
              "      <td>1259.00</td>\n",
              "      <td>1259.00</td>\n",
              "    </tr>\n",
              "    <tr>\n",
              "      <th>mean</th>\n",
              "      <td>1084.93</td>\n",
              "      <td>1095.35</td>\n",
              "      <td>1074.49</td>\n",
              "      <td>1085.34</td>\n",
              "      <td>1750984.42</td>\n",
              "    </tr>\n",
              "    <tr>\n",
              "      <th>std</th>\n",
              "      <td>251.23</td>\n",
              "      <td>255.26</td>\n",
              "      <td>248.28</td>\n",
              "      <td>251.88</td>\n",
              "      <td>858683.75</td>\n",
              "    </tr>\n",
              "    <tr>\n",
              "      <th>min</th>\n",
              "      <td>682.49</td>\n",
              "      <td>683.33</td>\n",
              "      <td>672.66</td>\n",
              "      <td>681.14</td>\n",
              "      <td>521141.00</td>\n",
              "    </tr>\n",
              "    <tr>\n",
              "      <th>25%</th>\n",
              "      <td>847.31</td>\n",
              "      <td>851.55</td>\n",
              "      <td>842.73</td>\n",
              "      <td>849.00</td>\n",
              "      <td>1204223.50</td>\n",
              "    </tr>\n",
              "    <tr>\n",
              "      <th>50%</th>\n",
              "      <td>1083.49</td>\n",
              "      <td>1094.75</td>\n",
              "      <td>1070.37</td>\n",
              "      <td>1084.01</td>\n",
              "      <td>1536653.00</td>\n",
              "    </tr>\n",
              "    <tr>\n",
              "      <th>75%</th>\n",
              "      <td>1223.24</td>\n",
              "      <td>1236.11</td>\n",
              "      <td>1213.53</td>\n",
              "      <td>1222.34</td>\n",
              "      <td>2005649.00</td>\n",
              "    </tr>\n",
              "    <tr>\n",
              "      <th>max</th>\n",
              "      <td>1820.54</td>\n",
              "      <td>1843.83</td>\n",
              "      <td>1817.00</td>\n",
              "      <td>1824.97</td>\n",
              "      <td>6658855.00</td>\n",
              "    </tr>\n",
              "  </tbody>\n",
              "</table>\n",
              "</div>"
            ],
            "text/plain": [
              "         Open    High     Low   Close     Volume\n",
              "count 1259.00 1259.00 1259.00 1259.00    1259.00\n",
              "mean  1084.93 1095.35 1074.49 1085.34 1750984.42\n",
              "std    251.23  255.26  248.28  251.88  858683.75\n",
              "min    682.49  683.33  672.66  681.14  521141.00\n",
              "25%    847.31  851.55  842.73  849.00 1204223.50\n",
              "50%   1083.49 1094.75 1070.37 1084.01 1536653.00\n",
              "75%   1223.24 1236.11 1213.53 1222.34 2005649.00\n",
              "max   1820.54 1843.83 1817.00 1824.97 6658855.00"
            ]
          },
          "metadata": {
            "tags": []
          },
          "execution_count": 18
        }
      ]
    },
    {
      "cell_type": "markdown",
      "metadata": {
        "id": "wVGd55NMW6ZU"
      },
      "source": [
        "Build a simple chart for _google_ closing price (_Close_)"
      ]
    },
    {
      "cell_type": "code",
      "metadata": {
        "id": "6z75UldWXDOr",
        "colab": {
          "base_uri": "https://localhost:8080/",
          "height": 292
        },
        "outputId": "c0011ecb-117f-4867-c6b4-03e38a0d68b4"
      },
      "source": [
        "# enter solution here\n",
        "google['Close'].plot()"
      ],
      "execution_count": 19,
      "outputs": [
        {
          "output_type": "execute_result",
          "data": {
            "text/plain": [
              "<matplotlib.axes._subplots.AxesSubplot at 0x7f7ea9bbcc50>"
            ]
          },
          "metadata": {
            "tags": []
          },
          "execution_count": 19
        },
        {
          "output_type": "display_data",
          "data": {
            "image/png": "[encoded data removed]",
            "text/plain": [
              "<Figure size 432x288 with 1 Axes>"
            ]
          },
          "metadata": {
            "tags": []
          }
        }
      ]
    },
    {
      "cell_type": "markdown",
      "metadata": {
        "id": "XQLYT2m11wVG"
      },
      "source": [
        "### <a name='3'></a> Exercise 123\n",
        "Replace the _Date_ index with a column. Permanently assign changes to the _google_."
      ]
    },
    {
      "cell_type": "code",
      "metadata": {
        "id": "tnmHL0sxXPLK",
        "colab": {
          "base_uri": "https://localhost:8080/",
          "height": 391
        },
        "outputId": "fe710312-1b9d-448b-ad48-60a3f45111af"
      },
      "source": [
        "# enter solution here\n",
        "google=google.reset_index()\n",
        "google"
      ],
      "execution_count": 20,
      "outputs": [
        {
          "output_type": "execute_result",
          "data": {
            "text/html": [
              "<div>\n",
              "<style scoped>\n",
              "    .dataframe tbody tr th:only-of-type {\n",
              "        vertical-align: middle;\n",
              "    }\n",
              "\n",
              "    .dataframe tbody tr th {\n",
              "        vertical-align: top;\n",
              "    }\n",
              "\n",
              "    .dataframe thead th {\n",
              "        text-align: right;\n",
              "    }\n",
              "</style>\n",
              "<table border=\"1\" class=\"dataframe\">\n",
              "  <thead>\n",
              "    <tr style=\"text-align: right;\">\n",
              "      <th></th>\n",
              "      <th>Date</th>\n",
              "      <th>Open</th>\n",
              "      <th>High</th>\n",
              "      <th>Low</th>\n",
              "      <th>Close</th>\n",
              "      <th>Volume</th>\n",
              "    </tr>\n",
              "  </thead>\n",
              "  <tbody>\n",
              "    <tr>\n",
              "      <th>0</th>\n",
              "      <td>2020-12-04</td>\n",
              "      <td>1820.22</td>\n",
              "      <td>1829.50</td>\n",
              "      <td>1813.59</td>\n",
              "      <td>1823.76</td>\n",
              "      <td>1027242</td>\n",
              "    </tr>\n",
              "    <tr>\n",
              "      <th>1</th>\n",
              "      <td>2020-12-03</td>\n",
              "      <td>1820.54</td>\n",
              "      <td>1843.83</td>\n",
              "      <td>1817.00</td>\n",
              "      <td>1821.84</td>\n",
              "      <td>1236366</td>\n",
              "    </tr>\n",
              "    <tr>\n",
              "      <th>2</th>\n",
              "      <td>2020-12-02</td>\n",
              "      <td>1795.36</td>\n",
              "      <td>1832.74</td>\n",
              "      <td>1785.17</td>\n",
              "      <td>1824.97</td>\n",
              "      <td>1471235</td>\n",
              "    </tr>\n",
              "    <tr>\n",
              "      <th>3</th>\n",
              "      <td>2020-12-01</td>\n",
              "      <td>1766.65</td>\n",
              "      <td>1821.72</td>\n",
              "      <td>1763.03</td>\n",
              "      <td>1795.36</td>\n",
              "      <td>1868134</td>\n",
              "    </tr>\n",
              "    <tr>\n",
              "      <th>4</th>\n",
              "      <td>2020-11-30</td>\n",
              "      <td>1775.65</td>\n",
              "      <td>1780.34</td>\n",
              "      <td>1747.84</td>\n",
              "      <td>1754.40</td>\n",
              "      <td>1620887</td>\n",
              "    </tr>\n",
              "    <tr>\n",
              "      <th>...</th>\n",
              "      <td>...</td>\n",
              "      <td>...</td>\n",
              "      <td>...</td>\n",
              "      <td>...</td>\n",
              "      <td>...</td>\n",
              "      <td>...</td>\n",
              "    </tr>\n",
              "    <tr>\n",
              "      <th>1254</th>\n",
              "      <td>2015-12-11</td>\n",
              "      <td>749.00</td>\n",
              "      <td>757.44</td>\n",
              "      <td>748.65</td>\n",
              "      <td>750.42</td>\n",
              "      <td>2159100</td>\n",
              "    </tr>\n",
              "    <tr>\n",
              "      <th>1255</th>\n",
              "      <td>2015-12-10</td>\n",
              "      <td>763.59</td>\n",
              "      <td>766.07</td>\n",
              "      <td>755.00</td>\n",
              "      <td>760.04</td>\n",
              "      <td>1622900</td>\n",
              "    </tr>\n",
              "    <tr>\n",
              "      <th>1256</th>\n",
              "      <td>2015-12-09</td>\n",
              "      <td>771.10</td>\n",
              "      <td>776.09</td>\n",
              "      <td>752.01</td>\n",
              "      <td>762.55</td>\n",
              "      <td>2327400</td>\n",
              "    </tr>\n",
              "    <tr>\n",
              "      <th>1257</th>\n",
              "      <td>2015-12-08</td>\n",
              "      <td>764.50</td>\n",
              "      <td>778.65</td>\n",
              "      <td>762.52</td>\n",
              "      <td>775.14</td>\n",
              "      <td>1554121</td>\n",
              "    </tr>\n",
              "    <tr>\n",
              "      <th>1258</th>\n",
              "      <td>2015-12-07</td>\n",
              "      <td>780.06</td>\n",
              "      <td>781.00</td>\n",
              "      <td>766.72</td>\n",
              "      <td>772.99</td>\n",
              "      <td>1831200</td>\n",
              "    </tr>\n",
              "  </tbody>\n",
              "</table>\n",
              "<p>1259 rows × 6 columns</p>\n",
              "</div>"
            ],
            "text/plain": [
              "           Date    Open    High     Low   Close   Volume\n",
              "0    2020-12-04 1820.22 1829.50 1813.59 1823.76  1027242\n",
              "1    2020-12-03 1820.54 1843.83 1817.00 1821.84  1236366\n",
              "2    2020-12-02 1795.36 1832.74 1785.17 1824.97  1471235\n",
              "3    2020-12-01 1766.65 1821.72 1763.03 1795.36  1868134\n",
              "4    2020-11-30 1775.65 1780.34 1747.84 1754.40  1620887\n",
              "...         ...     ...     ...     ...     ...      ...\n",
              "1254 2015-12-11  749.00  757.44  748.65  750.42  2159100\n",
              "1255 2015-12-10  763.59  766.07  755.00  760.04  1622900\n",
              "1256 2015-12-09  771.10  776.09  752.01  762.55  2327400\n",
              "1257 2015-12-08  764.50  778.65  762.52  775.14  1554121\n",
              "1258 2015-12-07  780.06  781.00  766.72  772.99  1831200\n",
              "\n",
              "[1259 rows x 6 columns]"
            ]
          },
          "metadata": {
            "tags": []
          },
          "execution_count": 20
        }
      ]
    },
    {
      "cell_type": "markdown",
      "metadata": {
        "id": "UM5yUTmzXR5G"
      },
      "source": [
        "Assign two new columns to the _google_ object by adding a column with the current month number named _'Month'_ and the year named _'Year'_."
      ]
    },
    {
      "cell_type": "code",
      "metadata": {
        "id": "TuqLYi3bXUkv",
        "colab": {
          "base_uri": "https://localhost:8080/",
          "height": 391
        },
        "outputId": "7b4610cf-fc49-46e7-97a8-9ddf552966f7"
      },
      "source": [
        "# enter solution here\n",
        "google['Year']=google['Date'].dt.year\n",
        "google['Month']=google['Date'].dt.month\n",
        "google"
      ],
      "execution_count": 21,
      "outputs": [
        {
          "output_type": "execute_result",
          "data": {
            "text/html": [
              "<div>\n",
              "<style scoped>\n",
              "    .dataframe tbody tr th:only-of-type {\n",
              "        vertical-align: middle;\n",
              "    }\n",
              "\n",
              "    .dataframe tbody tr th {\n",
              "        vertical-align: top;\n",
              "    }\n",
              "\n",
              "    .dataframe thead th {\n",
              "        text-align: right;\n",
              "    }\n",
              "</style>\n",
              "<table border=\"1\" class=\"dataframe\">\n",
              "  <thead>\n",
              "    <tr style=\"text-align: right;\">\n",
              "      <th></th>\n",
              "      <th>Date</th>\n",
              "      <th>Open</th>\n",
              "      <th>High</th>\n",
              "      <th>Low</th>\n",
              "      <th>Close</th>\n",
              "      <th>Volume</th>\n",
              "      <th>Year</th>\n",
              "      <th>Month</th>\n",
              "    </tr>\n",
              "  </thead>\n",
              "  <tbody>\n",
              "    <tr>\n",
              "      <th>0</th>\n",
              "      <td>2020-12-04</td>\n",
              "      <td>1820.22</td>\n",
              "      <td>1829.50</td>\n",
              "      <td>1813.59</td>\n",
              "      <td>1823.76</td>\n",
              "      <td>1027242</td>\n",
              "      <td>2020</td>\n",
              "      <td>12</td>\n",
              "    </tr>\n",
              "    <tr>\n",
              "      <th>1</th>\n",
              "      <td>2020-12-03</td>\n",
              "      <td>1820.54</td>\n",
              "      <td>1843.83</td>\n",
              "      <td>1817.00</td>\n",
              "      <td>1821.84</td>\n",
              "      <td>1236366</td>\n",
              "      <td>2020</td>\n",
              "      <td>12</td>\n",
              "    </tr>\n",
              "    <tr>\n",
              "      <th>2</th>\n",
              "      <td>2020-12-02</td>\n",
              "      <td>1795.36</td>\n",
              "      <td>1832.74</td>\n",
              "      <td>1785.17</td>\n",
              "      <td>1824.97</td>\n",
              "      <td>1471235</td>\n",
              "      <td>2020</td>\n",
              "      <td>12</td>\n",
              "    </tr>\n",
              "    <tr>\n",
              "      <th>3</th>\n",
              "      <td>2020-12-01</td>\n",
              "      <td>1766.65</td>\n",
              "      <td>1821.72</td>\n",
              "      <td>1763.03</td>\n",
              "      <td>1795.36</td>\n",
              "      <td>1868134</td>\n",
              "      <td>2020</td>\n",
              "      <td>12</td>\n",
              "    </tr>\n",
              "    <tr>\n",
              "      <th>4</th>\n",
              "      <td>2020-11-30</td>\n",
              "      <td>1775.65</td>\n",
              "      <td>1780.34</td>\n",
              "      <td>1747.84</td>\n",
              "      <td>1754.40</td>\n",
              "      <td>1620887</td>\n",
              "      <td>2020</td>\n",
              "      <td>11</td>\n",
              "    </tr>\n",
              "    <tr>\n",
              "      <th>...</th>\n",
              "      <td>...</td>\n",
              "      <td>...</td>\n",
              "      <td>...</td>\n",
              "      <td>...</td>\n",
              "      <td>...</td>\n",
              "      <td>...</td>\n",
              "      <td>...</td>\n",
              "      <td>...</td>\n",
              "    </tr>\n",
              "    <tr>\n",
              "      <th>1254</th>\n",
              "      <td>2015-12-11</td>\n",
              "      <td>749.00</td>\n",
              "      <td>757.44</td>\n",
              "      <td>748.65</td>\n",
              "      <td>750.42</td>\n",
              "      <td>2159100</td>\n",
              "      <td>2015</td>\n",
              "      <td>12</td>\n",
              "    </tr>\n",
              "    <tr>\n",
              "      <th>1255</th>\n",
              "      <td>2015-12-10</td>\n",
              "      <td>763.59</td>\n",
              "      <td>766.07</td>\n",
              "      <td>755.00</td>\n",
              "      <td>760.04</td>\n",
              "      <td>1622900</td>\n",
              "      <td>2015</td>\n",
              "      <td>12</td>\n",
              "    </tr>\n",
              "    <tr>\n",
              "      <th>1256</th>\n",
              "      <td>2015-12-09</td>\n",
              "      <td>771.10</td>\n",
              "      <td>776.09</td>\n",
              "      <td>752.01</td>\n",
              "      <td>762.55</td>\n",
              "      <td>2327400</td>\n",
              "      <td>2015</td>\n",
              "      <td>12</td>\n",
              "    </tr>\n",
              "    <tr>\n",
              "      <th>1257</th>\n",
              "      <td>2015-12-08</td>\n",
              "      <td>764.50</td>\n",
              "      <td>778.65</td>\n",
              "      <td>762.52</td>\n",
              "      <td>775.14</td>\n",
              "      <td>1554121</td>\n",
              "      <td>2015</td>\n",
              "      <td>12</td>\n",
              "    </tr>\n",
              "    <tr>\n",
              "      <th>1258</th>\n",
              "      <td>2015-12-07</td>\n",
              "      <td>780.06</td>\n",
              "      <td>781.00</td>\n",
              "      <td>766.72</td>\n",
              "      <td>772.99</td>\n",
              "      <td>1831200</td>\n",
              "      <td>2015</td>\n",
              "      <td>12</td>\n",
              "    </tr>\n",
              "  </tbody>\n",
              "</table>\n",
              "<p>1259 rows × 8 columns</p>\n",
              "</div>"
            ],
            "text/plain": [
              "           Date    Open    High     Low   Close   Volume  Year  Month\n",
              "0    2020-12-04 1820.22 1829.50 1813.59 1823.76  1027242  2020     12\n",
              "1    2020-12-03 1820.54 1843.83 1817.00 1821.84  1236366  2020     12\n",
              "2    2020-12-02 1795.36 1832.74 1785.17 1824.97  1471235  2020     12\n",
              "3    2020-12-01 1766.65 1821.72 1763.03 1795.36  1868134  2020     12\n",
              "4    2020-11-30 1775.65 1780.34 1747.84 1754.40  1620887  2020     11\n",
              "...         ...     ...     ...     ...     ...      ...   ...    ...\n",
              "1254 2015-12-11  749.00  757.44  748.65  750.42  2159100  2015     12\n",
              "1255 2015-12-10  763.59  766.07  755.00  760.04  1622900  2015     12\n",
              "1256 2015-12-09  771.10  776.09  752.01  762.55  2327400  2015     12\n",
              "1257 2015-12-08  764.50  778.65  762.52  775.14  1554121  2015     12\n",
              "1258 2015-12-07  780.06  781.00  766.72  772.99  1831200  2015     12\n",
              "\n",
              "[1259 rows x 8 columns]"
            ]
          },
          "metadata": {
            "tags": []
          },
          "execution_count": 21
        }
      ]
    },
    {
      "cell_type": "markdown",
      "metadata": {
        "id": "4xTKSUzg10MK"
      },
      "source": [
        "### <a name='4'></a> Exercise 124\n",
        "Compute the average closing price (_Close_) for a particular year (group data by year - column _Year_ and then calculate the average value)."
      ]
    },
    {
      "cell_type": "code",
      "metadata": {
        "id": "8y72Mrl_XbVR",
        "colab": {
          "base_uri": "https://localhost:8080/"
        },
        "outputId": "a4d69562-0ab2-4922-f4ec-be80b5a2e85b"
      },
      "source": [
        "# enter solution here\n",
        "google.groupby('Year')['Close'].mean()"
      ],
      "execution_count": 22,
      "outputs": [
        {
          "output_type": "execute_result",
          "data": {
            "text/plain": [
              "Year\n",
              "2015    769.66\n",
              "2016    763.21\n",
              "2017    939.77\n",
              "2018   1122.05\n",
              "2019   1191.22\n",
              "2020   1457.71\n",
              "Name: Close, dtype: float64"
            ]
          },
          "metadata": {
            "tags": []
          },
          "execution_count": 22
        }
      ]
    },
    {
      "cell_type": "markdown",
      "metadata": {
        "id": "WWUsF6Q_Xdqp"
      },
      "source": [
        "Present the obtained values on the graph using the _plot()_ method."
      ]
    },
    {
      "cell_type": "code",
      "metadata": {
        "id": "vhH4QI4rXf0F",
        "colab": {
          "base_uri": "https://localhost:8080/",
          "height": 301
        },
        "outputId": "3e2b2634-a1d5-4975-a948-41f259202454"
      },
      "source": [
        "# enter solution here\n",
        "google.groupby('Year')['Close'].mean().plot()"
      ],
      "execution_count": 23,
      "outputs": [
        {
          "output_type": "execute_result",
          "data": {
            "text/plain": [
              "<matplotlib.axes._subplots.AxesSubplot at 0x7f7ea9b220b8>"
            ]
          },
          "metadata": {
            "tags": []
          },
          "execution_count": 23
        },
        {
          "output_type": "display_data",
          "data": {
            "image/png": "[encoded data removed]",
            "text/plain": [
              "<Figure size 432x288 with 1 Axes>"
            ]
          },
          "metadata": {
            "tags": []
          }
        }
      ]
    },
    {
      "cell_type": "markdown",
      "metadata": {
        "id": "ZQdfGqr1Xong"
      },
      "source": [
        "Compute the average closing price (_Close_) for the month (group data by month - the _Month_ column and then count the average value)."
      ]
    },
    {
      "cell_type": "code",
      "metadata": {
        "id": "Rv9ObC1DXlIP",
        "colab": {
          "base_uri": "https://localhost:8080/"
        },
        "outputId": "1c434fb4-9383-4c3f-d577-fc3b530340f7"
      },
      "source": [
        "# enter solution here\n",
        "google.groupby('Month')['Close'].mean()"
      ],
      "execution_count": 24,
      "outputs": [
        {
          "output_type": "execute_result",
          "data": {
            "text/plain": [
              "Month\n",
              "1    1052.83\n",
              "2    1044.11\n",
              "3    1008.99\n",
              "4    1027.07\n",
              "5    1057.08\n",
              "6    1070.44\n",
              "7    1123.99\n",
              "8    1133.65\n",
              "9    1133.02\n",
              "10   1145.27\n",
              "11   1182.34\n",
              "12   1039.66\n",
              "Name: Close, dtype: float64"
            ]
          },
          "metadata": {
            "tags": []
          },
          "execution_count": 24
        }
      ]
    },
    {
      "cell_type": "markdown",
      "metadata": {
        "id": "xZK19EeaXtzH"
      },
      "source": [
        "Present the obtained values on the graph using the _plot()_ method.\n",
        "Note which months may indicate weaker periods on the stock market."
      ]
    },
    {
      "cell_type": "code",
      "metadata": {
        "id": "si68U1IqXxz9",
        "colab": {
          "base_uri": "https://localhost:8080/",
          "height": 301
        },
        "outputId": "fc60879f-007d-457d-d9dc-6540b4650058"
      },
      "source": [
        "# enter solution here\n",
        "google.groupby('Month')['Close'].mean().plot()"
      ],
      "execution_count": 25,
      "outputs": [
        {
          "output_type": "execute_result",
          "data": {
            "text/plain": [
              "<matplotlib.axes._subplots.AxesSubplot at 0x7f7ea9b03828>"
            ]
          },
          "metadata": {
            "tags": []
          },
          "execution_count": 25
        },
        {
          "output_type": "display_data",
          "data": {
            "image/png": "[encoded data removed]",
            "text/plain": [
              "<Figure size 432x288 with 1 Axes>"
            ]
          },
          "metadata": {
            "tags": []
          }
        }
      ]
    },
    {
      "cell_type": "markdown",
      "metadata": {
        "id": "o3HKIKlP15Ro"
      },
      "source": [
        "### <a name='5'></a> Exercise 125\n",
        "Group data from _google_ at year and month level. Then calculate the average value.\n"
      ]
    },
    {
      "cell_type": "code",
      "metadata": {
        "id": "Se7TZ3fIX5Z7",
        "colab": {
          "base_uri": "https://localhost:8080/"
        },
        "outputId": "17a48c04-4307-4724-c063-d821ccfdb0ec"
      },
      "source": [
        "# enter solution here\n",
        "google.groupby(['Year','Month'])['Close'].mean()"
      ],
      "execution_count": 27,
      "outputs": [
        {
          "output_type": "execute_result",
          "data": {
            "text/plain": [
              "Year  Month\n",
              "2015  12       769.66\n",
              "2016  1        736.58\n",
              "      2        724.39\n",
              "      3        746.79\n",
              "      4        756.66\n",
              "                ...  \n",
              "2020  8       1545.02\n",
              "      9       1511.50\n",
              "      10      1541.92\n",
              "      11      1743.39\n",
              "      12      1816.48\n",
              "Name: Close, Length: 61, dtype: float64"
            ]
          },
          "metadata": {
            "tags": []
          },
          "execution_count": 27
        }
      ]
    },
    {
      "cell_type": "markdown",
      "metadata": {
        "id": "PunXd_Ey16so"
      },
      "source": [
        "### <a name='6'></a> Exercise 126\n",
        "Find the index for which the _Close_ column has the largest value.\n"
      ]
    },
    {
      "cell_type": "code",
      "metadata": {
        "id": "SHLzxmmNX9A6",
        "colab": {
          "base_uri": "https://localhost:8080/"
        },
        "outputId": "a3d41503-1af8-4702-864b-659b7b23ff19"
      },
      "source": [
        "# enter solution here\n",
        "google['Close'].argmax()"
      ],
      "execution_count": 28,
      "outputs": [
        {
          "output_type": "execute_result",
          "data": {
            "text/plain": [
              "2"
            ]
          },
          "metadata": {
            "tags": []
          },
          "execution_count": 28
        }
      ]
    },
    {
      "cell_type": "markdown",
      "metadata": {
        "id": "Bmhj586UX_PT"
      },
      "source": [
        "Extract the row for this index from the google object as a DataFrame. Read the date."
      ]
    },
    {
      "cell_type": "code",
      "metadata": {
        "id": "oR_HAXE0YCB6",
        "colab": {
          "base_uri": "https://localhost:8080/"
        },
        "outputId": "a066f3d5-70aa-4ac6-cc3c-4e8eff98b042"
      },
      "source": [
        "# enter solution here\n",
        "google.iloc[google['Close'].argmax()]"
      ],
      "execution_count": 29,
      "outputs": [
        {
          "output_type": "execute_result",
          "data": {
            "text/plain": [
              "Date      2020-12-02 00:00:00\n",
              "Open                  1795.36\n",
              "High                  1832.74\n",
              "Low                   1785.17\n",
              "Close                 1824.97\n",
              "Volume                1471235\n",
              "Year                     2020\n",
              "Month                      12\n",
              "Name: 2, dtype: object"
            ]
          },
          "metadata": {
            "tags": []
          },
          "execution_count": 29
        }
      ]
    },
    {
      "cell_type": "markdown",
      "metadata": {
        "id": "hOhqDRz618Tx"
      },
      "source": [
        "### <a name='7'></a> Exercise 127\n",
        "Extract the columns _Date_, _Open_, _Close_, _Volume_ from the _google_ object.\n",
        "Don't change the original _google_ object!"
      ]
    },
    {
      "cell_type": "code",
      "metadata": {
        "id": "rF0EWOQLYGeT",
        "colab": {
          "base_uri": "https://localhost:8080/",
          "height": 391
        },
        "outputId": "0c00ab41-8a4e-4f67-a29a-a1908e19a468"
      },
      "source": [
        "# enter solution here\n",
        "google[['Date', 'Open', 'Close', 'Volume']]"
      ],
      "execution_count": 30,
      "outputs": [
        {
          "output_type": "execute_result",
          "data": {
            "text/html": [
              "<div>\n",
              "<style scoped>\n",
              "    .dataframe tbody tr th:only-of-type {\n",
              "        vertical-align: middle;\n",
              "    }\n",
              "\n",
              "    .dataframe tbody tr th {\n",
              "        vertical-align: top;\n",
              "    }\n",
              "\n",
              "    .dataframe thead th {\n",
              "        text-align: right;\n",
              "    }\n",
              "</style>\n",
              "<table border=\"1\" class=\"dataframe\">\n",
              "  <thead>\n",
              "    <tr style=\"text-align: right;\">\n",
              "      <th></th>\n",
              "      <th>Date</th>\n",
              "      <th>Open</th>\n",
              "      <th>Close</th>\n",
              "      <th>Volume</th>\n",
              "    </tr>\n",
              "  </thead>\n",
              "  <tbody>\n",
              "    <tr>\n",
              "      <th>0</th>\n",
              "      <td>2020-12-04</td>\n",
              "      <td>1820.22</td>\n",
              "      <td>1823.76</td>\n",
              "      <td>1027242</td>\n",
              "    </tr>\n",
              "    <tr>\n",
              "      <th>1</th>\n",
              "      <td>2020-12-03</td>\n",
              "      <td>1820.54</td>\n",
              "      <td>1821.84</td>\n",
              "      <td>1236366</td>\n",
              "    </tr>\n",
              "    <tr>\n",
              "      <th>2</th>\n",
              "      <td>2020-12-02</td>\n",
              "      <td>1795.36</td>\n",
              "      <td>1824.97</td>\n",
              "      <td>1471235</td>\n",
              "    </tr>\n",
              "    <tr>\n",
              "      <th>3</th>\n",
              "      <td>2020-12-01</td>\n",
              "      <td>1766.65</td>\n",
              "      <td>1795.36</td>\n",
              "      <td>1868134</td>\n",
              "    </tr>\n",
              "    <tr>\n",
              "      <th>4</th>\n",
              "      <td>2020-11-30</td>\n",
              "      <td>1775.65</td>\n",
              "      <td>1754.40</td>\n",
              "      <td>1620887</td>\n",
              "    </tr>\n",
              "    <tr>\n",
              "      <th>...</th>\n",
              "      <td>...</td>\n",
              "      <td>...</td>\n",
              "      <td>...</td>\n",
              "      <td>...</td>\n",
              "    </tr>\n",
              "    <tr>\n",
              "      <th>1254</th>\n",
              "      <td>2015-12-11</td>\n",
              "      <td>749.00</td>\n",
              "      <td>750.42</td>\n",
              "      <td>2159100</td>\n",
              "    </tr>\n",
              "    <tr>\n",
              "      <th>1255</th>\n",
              "      <td>2015-12-10</td>\n",
              "      <td>763.59</td>\n",
              "      <td>760.04</td>\n",
              "      <td>1622900</td>\n",
              "    </tr>\n",
              "    <tr>\n",
              "      <th>1256</th>\n",
              "      <td>2015-12-09</td>\n",
              "      <td>771.10</td>\n",
              "      <td>762.55</td>\n",
              "      <td>2327400</td>\n",
              "    </tr>\n",
              "    <tr>\n",
              "      <th>1257</th>\n",
              "      <td>2015-12-08</td>\n",
              "      <td>764.50</td>\n",
              "      <td>775.14</td>\n",
              "      <td>1554121</td>\n",
              "    </tr>\n",
              "    <tr>\n",
              "      <th>1258</th>\n",
              "      <td>2015-12-07</td>\n",
              "      <td>780.06</td>\n",
              "      <td>772.99</td>\n",
              "      <td>1831200</td>\n",
              "    </tr>\n",
              "  </tbody>\n",
              "</table>\n",
              "<p>1259 rows × 4 columns</p>\n",
              "</div>"
            ],
            "text/plain": [
              "           Date    Open   Close   Volume\n",
              "0    2020-12-04 1820.22 1823.76  1027242\n",
              "1    2020-12-03 1820.54 1821.84  1236366\n",
              "2    2020-12-02 1795.36 1824.97  1471235\n",
              "3    2020-12-01 1766.65 1795.36  1868134\n",
              "4    2020-11-30 1775.65 1754.40  1620887\n",
              "...         ...     ...     ...      ...\n",
              "1254 2015-12-11  749.00  750.42  2159100\n",
              "1255 2015-12-10  763.59  760.04  1622900\n",
              "1256 2015-12-09  771.10  762.55  2327400\n",
              "1257 2015-12-08  764.50  775.14  1554121\n",
              "1258 2015-12-07  780.06  772.99  1831200\n",
              "\n",
              "[1259 rows x 4 columns]"
            ]
          },
          "metadata": {
            "tags": []
          },
          "execution_count": 30
        }
      ]
    },
    {
      "cell_type": "markdown",
      "metadata": {
        "id": "TXUd_4631-gw"
      },
      "source": [
        "### <a name='8'></a> Exercise 128\n",
        "Set the index for the _Date_ column back. Display object _google_."
      ]
    },
    {
      "cell_type": "code",
      "metadata": {
        "id": "1asmE6YJYLw-",
        "colab": {
          "base_uri": "https://localhost:8080/",
          "height": 420
        },
        "outputId": "e26435c3-a1da-4389-95e5-08a227a856f1"
      },
      "source": [
        "# enter solution here\n",
        "google=google.set_index('Date')\n",
        "google"
      ],
      "execution_count": 31,
      "outputs": [
        {
          "output_type": "execute_result",
          "data": {
            "text/html": [
              "<div>\n",
              "<style scoped>\n",
              "    .dataframe tbody tr th:only-of-type {\n",
              "        vertical-align: middle;\n",
              "    }\n",
              "\n",
              "    .dataframe tbody tr th {\n",
              "        vertical-align: top;\n",
              "    }\n",
              "\n",
              "    .dataframe thead th {\n",
              "        text-align: right;\n",
              "    }\n",
              "</style>\n",
              "<table border=\"1\" class=\"dataframe\">\n",
              "  <thead>\n",
              "    <tr style=\"text-align: right;\">\n",
              "      <th></th>\n",
              "      <th>Open</th>\n",
              "      <th>High</th>\n",
              "      <th>Low</th>\n",
              "      <th>Close</th>\n",
              "      <th>Volume</th>\n",
              "      <th>Year</th>\n",
              "      <th>Month</th>\n",
              "    </tr>\n",
              "    <tr>\n",
              "      <th>Date</th>\n",
              "      <th></th>\n",
              "      <th></th>\n",
              "      <th></th>\n",
              "      <th></th>\n",
              "      <th></th>\n",
              "      <th></th>\n",
              "      <th></th>\n",
              "    </tr>\n",
              "  </thead>\n",
              "  <tbody>\n",
              "    <tr>\n",
              "      <th>2020-12-04</th>\n",
              "      <td>1820.22</td>\n",
              "      <td>1829.50</td>\n",
              "      <td>1813.59</td>\n",
              "      <td>1823.76</td>\n",
              "      <td>1027242</td>\n",
              "      <td>2020</td>\n",
              "      <td>12</td>\n",
              "    </tr>\n",
              "    <tr>\n",
              "      <th>2020-12-03</th>\n",
              "      <td>1820.54</td>\n",
              "      <td>1843.83</td>\n",
              "      <td>1817.00</td>\n",
              "      <td>1821.84</td>\n",
              "      <td>1236366</td>\n",
              "      <td>2020</td>\n",
              "      <td>12</td>\n",
              "    </tr>\n",
              "    <tr>\n",
              "      <th>2020-12-02</th>\n",
              "      <td>1795.36</td>\n",
              "      <td>1832.74</td>\n",
              "      <td>1785.17</td>\n",
              "      <td>1824.97</td>\n",
              "      <td>1471235</td>\n",
              "      <td>2020</td>\n",
              "      <td>12</td>\n",
              "    </tr>\n",
              "    <tr>\n",
              "      <th>2020-12-01</th>\n",
              "      <td>1766.65</td>\n",
              "      <td>1821.72</td>\n",
              "      <td>1763.03</td>\n",
              "      <td>1795.36</td>\n",
              "      <td>1868134</td>\n",
              "      <td>2020</td>\n",
              "      <td>12</td>\n",
              "    </tr>\n",
              "    <tr>\n",
              "      <th>2020-11-30</th>\n",
              "      <td>1775.65</td>\n",
              "      <td>1780.34</td>\n",
              "      <td>1747.84</td>\n",
              "      <td>1754.40</td>\n",
              "      <td>1620887</td>\n",
              "      <td>2020</td>\n",
              "      <td>11</td>\n",
              "    </tr>\n",
              "    <tr>\n",
              "      <th>...</th>\n",
              "      <td>...</td>\n",
              "      <td>...</td>\n",
              "      <td>...</td>\n",
              "      <td>...</td>\n",
              "      <td>...</td>\n",
              "      <td>...</td>\n",
              "      <td>...</td>\n",
              "    </tr>\n",
              "    <tr>\n",
              "      <th>2015-12-11</th>\n",
              "      <td>749.00</td>\n",
              "      <td>757.44</td>\n",
              "      <td>748.65</td>\n",
              "      <td>750.42</td>\n",
              "      <td>2159100</td>\n",
              "      <td>2015</td>\n",
              "      <td>12</td>\n",
              "    </tr>\n",
              "    <tr>\n",
              "      <th>2015-12-10</th>\n",
              "      <td>763.59</td>\n",
              "      <td>766.07</td>\n",
              "      <td>755.00</td>\n",
              "      <td>760.04</td>\n",
              "      <td>1622900</td>\n",
              "      <td>2015</td>\n",
              "      <td>12</td>\n",
              "    </tr>\n",
              "    <tr>\n",
              "      <th>2015-12-09</th>\n",
              "      <td>771.10</td>\n",
              "      <td>776.09</td>\n",
              "      <td>752.01</td>\n",
              "      <td>762.55</td>\n",
              "      <td>2327400</td>\n",
              "      <td>2015</td>\n",
              "      <td>12</td>\n",
              "    </tr>\n",
              "    <tr>\n",
              "      <th>2015-12-08</th>\n",
              "      <td>764.50</td>\n",
              "      <td>778.65</td>\n",
              "      <td>762.52</td>\n",
              "      <td>775.14</td>\n",
              "      <td>1554121</td>\n",
              "      <td>2015</td>\n",
              "      <td>12</td>\n",
              "    </tr>\n",
              "    <tr>\n",
              "      <th>2015-12-07</th>\n",
              "      <td>780.06</td>\n",
              "      <td>781.00</td>\n",
              "      <td>766.72</td>\n",
              "      <td>772.99</td>\n",
              "      <td>1831200</td>\n",
              "      <td>2015</td>\n",
              "      <td>12</td>\n",
              "    </tr>\n",
              "  </tbody>\n",
              "</table>\n",
              "<p>1259 rows × 7 columns</p>\n",
              "</div>"
            ],
            "text/plain": [
              "              Open    High     Low   Close   Volume  Year  Month\n",
              "Date                                                            \n",
              "2020-12-04 1820.22 1829.50 1813.59 1823.76  1027242  2020     12\n",
              "2020-12-03 1820.54 1843.83 1817.00 1821.84  1236366  2020     12\n",
              "2020-12-02 1795.36 1832.74 1785.17 1824.97  1471235  2020     12\n",
              "2020-12-01 1766.65 1821.72 1763.03 1795.36  1868134  2020     12\n",
              "2020-11-30 1775.65 1780.34 1747.84 1754.40  1620887  2020     11\n",
              "...            ...     ...     ...     ...      ...   ...    ...\n",
              "2015-12-11  749.00  757.44  748.65  750.42  2159100  2015     12\n",
              "2015-12-10  763.59  766.07  755.00  760.04  1622900  2015     12\n",
              "2015-12-09  771.10  776.09  752.01  762.55  2327400  2015     12\n",
              "2015-12-08  764.50  778.65  762.52  775.14  1554121  2015     12\n",
              "2015-12-07  780.06  781.00  766.72  772.99  1831200  2015     12\n",
              "\n",
              "[1259 rows x 7 columns]"
            ]
          },
          "metadata": {
            "tags": []
          },
          "execution_count": 31
        }
      ]
    },
    {
      "cell_type": "markdown",
      "metadata": {
        "id": "tgI6xEn-2AQo"
      },
      "source": [
        "### <a name='9'></a> Exercise 129\n",
        "Permanently remove the _Year_ and _Month_ columns from the _google_ object. Display object _google_."
      ]
    },
    {
      "cell_type": "code",
      "metadata": {
        "id": "tmRTUIEOYc9x",
        "colab": {
          "base_uri": "https://localhost:8080/",
          "height": 420
        },
        "outputId": "874a1a07-216f-4ada-cda1-76b3316f9cd6"
      },
      "source": [
        "# enter solution here\n",
        "google=google.drop(columns=['Year', 'Month'])\n",
        "google"
      ],
      "execution_count": 33,
      "outputs": [
        {
          "output_type": "execute_result",
          "data": {
            "text/html": [
              "<div>\n",
              "<style scoped>\n",
              "    .dataframe tbody tr th:only-of-type {\n",
              "        vertical-align: middle;\n",
              "    }\n",
              "\n",
              "    .dataframe tbody tr th {\n",
              "        vertical-align: top;\n",
              "    }\n",
              "\n",
              "    .dataframe thead th {\n",
              "        text-align: right;\n",
              "    }\n",
              "</style>\n",
              "<table border=\"1\" class=\"dataframe\">\n",
              "  <thead>\n",
              "    <tr style=\"text-align: right;\">\n",
              "      <th></th>\n",
              "      <th>Open</th>\n",
              "      <th>High</th>\n",
              "      <th>Low</th>\n",
              "      <th>Close</th>\n",
              "      <th>Volume</th>\n",
              "    </tr>\n",
              "    <tr>\n",
              "      <th>Date</th>\n",
              "      <th></th>\n",
              "      <th></th>\n",
              "      <th></th>\n",
              "      <th></th>\n",
              "      <th></th>\n",
              "    </tr>\n",
              "  </thead>\n",
              "  <tbody>\n",
              "    <tr>\n",
              "      <th>2020-12-04</th>\n",
              "      <td>1820.22</td>\n",
              "      <td>1829.50</td>\n",
              "      <td>1813.59</td>\n",
              "      <td>1823.76</td>\n",
              "      <td>1027242</td>\n",
              "    </tr>\n",
              "    <tr>\n",
              "      <th>2020-12-03</th>\n",
              "      <td>1820.54</td>\n",
              "      <td>1843.83</td>\n",
              "      <td>1817.00</td>\n",
              "      <td>1821.84</td>\n",
              "      <td>1236366</td>\n",
              "    </tr>\n",
              "    <tr>\n",
              "      <th>2020-12-02</th>\n",
              "      <td>1795.36</td>\n",
              "      <td>1832.74</td>\n",
              "      <td>1785.17</td>\n",
              "      <td>1824.97</td>\n",
              "      <td>1471235</td>\n",
              "    </tr>\n",
              "    <tr>\n",
              "      <th>2020-12-01</th>\n",
              "      <td>1766.65</td>\n",
              "      <td>1821.72</td>\n",
              "      <td>1763.03</td>\n",
              "      <td>1795.36</td>\n",
              "      <td>1868134</td>\n",
              "    </tr>\n",
              "    <tr>\n",
              "      <th>2020-11-30</th>\n",
              "      <td>1775.65</td>\n",
              "      <td>1780.34</td>\n",
              "      <td>1747.84</td>\n",
              "      <td>1754.40</td>\n",
              "      <td>1620887</td>\n",
              "    </tr>\n",
              "    <tr>\n",
              "      <th>...</th>\n",
              "      <td>...</td>\n",
              "      <td>...</td>\n",
              "      <td>...</td>\n",
              "      <td>...</td>\n",
              "      <td>...</td>\n",
              "    </tr>\n",
              "    <tr>\n",
              "      <th>2015-12-11</th>\n",
              "      <td>749.00</td>\n",
              "      <td>757.44</td>\n",
              "      <td>748.65</td>\n",
              "      <td>750.42</td>\n",
              "      <td>2159100</td>\n",
              "    </tr>\n",
              "    <tr>\n",
              "      <th>2015-12-10</th>\n",
              "      <td>763.59</td>\n",
              "      <td>766.07</td>\n",
              "      <td>755.00</td>\n",
              "      <td>760.04</td>\n",
              "      <td>1622900</td>\n",
              "    </tr>\n",
              "    <tr>\n",
              "      <th>2015-12-09</th>\n",
              "      <td>771.10</td>\n",
              "      <td>776.09</td>\n",
              "      <td>752.01</td>\n",
              "      <td>762.55</td>\n",
              "      <td>2327400</td>\n",
              "    </tr>\n",
              "    <tr>\n",
              "      <th>2015-12-08</th>\n",
              "      <td>764.50</td>\n",
              "      <td>778.65</td>\n",
              "      <td>762.52</td>\n",
              "      <td>775.14</td>\n",
              "      <td>1554121</td>\n",
              "    </tr>\n",
              "    <tr>\n",
              "      <th>2015-12-07</th>\n",
              "      <td>780.06</td>\n",
              "      <td>781.00</td>\n",
              "      <td>766.72</td>\n",
              "      <td>772.99</td>\n",
              "      <td>1831200</td>\n",
              "    </tr>\n",
              "  </tbody>\n",
              "</table>\n",
              "<p>1259 rows × 5 columns</p>\n",
              "</div>"
            ],
            "text/plain": [
              "              Open    High     Low   Close   Volume\n",
              "Date                                               \n",
              "2020-12-04 1820.22 1829.50 1813.59 1823.76  1027242\n",
              "2020-12-03 1820.54 1843.83 1817.00 1821.84  1236366\n",
              "2020-12-02 1795.36 1832.74 1785.17 1824.97  1471235\n",
              "2020-12-01 1766.65 1821.72 1763.03 1795.36  1868134\n",
              "2020-11-30 1775.65 1780.34 1747.84 1754.40  1620887\n",
              "...            ...     ...     ...     ...      ...\n",
              "2015-12-11  749.00  757.44  748.65  750.42  2159100\n",
              "2015-12-10  763.59  766.07  755.00  760.04  1622900\n",
              "2015-12-09  771.10  776.09  752.01  762.55  2327400\n",
              "2015-12-08  764.50  778.65  762.52  775.14  1554121\n",
              "2015-12-07  780.06  781.00  766.72  772.99  1831200\n",
              "\n",
              "[1259 rows x 5 columns]"
            ]
          },
          "metadata": {
            "tags": []
          },
          "execution_count": 33
        }
      ]
    },
    {
      "cell_type": "markdown",
      "metadata": {
        "id": "wxhpf-uq2B1I"
      },
      "source": [
        "### <a name='10'></a> Exercise 130\n",
        "\n",
        "Assign the following values to the column names:\n",
        "* Open -> O\n",
        "* High -> H\n",
        "* Low -> L\n",
        "* Close -> C\n",
        "* Volume -> V\n",
        "\n",
        "to object _google_. Display object _google_."
      ]
    },
    {
      "cell_type": "code",
      "metadata": {
        "id": "YFc0KW6URsuc",
        "colab": {
          "base_uri": "https://localhost:8080/",
          "height": 420
        },
        "outputId": "134998ed-6e6b-4548-da96-054a1526c9e6"
      },
      "source": [
        "# enter solution here\n",
        "google.columns = ['O', 'H', 'L', 'C', 'V']\n",
        "google"
      ],
      "execution_count": 34,
      "outputs": [
        {
          "output_type": "execute_result",
          "data": {
            "text/html": [
              "<div>\n",
              "<style scoped>\n",
              "    .dataframe tbody tr th:only-of-type {\n",
              "        vertical-align: middle;\n",
              "    }\n",
              "\n",
              "    .dataframe tbody tr th {\n",
              "        vertical-align: top;\n",
              "    }\n",
              "\n",
              "    .dataframe thead th {\n",
              "        text-align: right;\n",
              "    }\n",
              "</style>\n",
              "<table border=\"1\" class=\"dataframe\">\n",
              "  <thead>\n",
              "    <tr style=\"text-align: right;\">\n",
              "      <th></th>\n",
              "      <th>O</th>\n",
              "      <th>H</th>\n",
              "      <th>L</th>\n",
              "      <th>C</th>\n",
              "      <th>V</th>\n",
              "    </tr>\n",
              "    <tr>\n",
              "      <th>Date</th>\n",
              "      <th></th>\n",
              "      <th></th>\n",
              "      <th></th>\n",
              "      <th></th>\n",
              "      <th></th>\n",
              "    </tr>\n",
              "  </thead>\n",
              "  <tbody>\n",
              "    <tr>\n",
              "      <th>2020-12-04</th>\n",
              "      <td>1820.22</td>\n",
              "      <td>1829.50</td>\n",
              "      <td>1813.59</td>\n",
              "      <td>1823.76</td>\n",
              "      <td>1027242</td>\n",
              "    </tr>\n",
              "    <tr>\n",
              "      <th>2020-12-03</th>\n",
              "      <td>1820.54</td>\n",
              "      <td>1843.83</td>\n",
              "      <td>1817.00</td>\n",
              "      <td>1821.84</td>\n",
              "      <td>1236366</td>\n",
              "    </tr>\n",
              "    <tr>\n",
              "      <th>2020-12-02</th>\n",
              "      <td>1795.36</td>\n",
              "      <td>1832.74</td>\n",
              "      <td>1785.17</td>\n",
              "      <td>1824.97</td>\n",
              "      <td>1471235</td>\n",
              "    </tr>\n",
              "    <tr>\n",
              "      <th>2020-12-01</th>\n",
              "      <td>1766.65</td>\n",
              "      <td>1821.72</td>\n",
              "      <td>1763.03</td>\n",
              "      <td>1795.36</td>\n",
              "      <td>1868134</td>\n",
              "    </tr>\n",
              "    <tr>\n",
              "      <th>2020-11-30</th>\n",
              "      <td>1775.65</td>\n",
              "      <td>1780.34</td>\n",
              "      <td>1747.84</td>\n",
              "      <td>1754.40</td>\n",
              "      <td>1620887</td>\n",
              "    </tr>\n",
              "    <tr>\n",
              "      <th>...</th>\n",
              "      <td>...</td>\n",
              "      <td>...</td>\n",
              "      <td>...</td>\n",
              "      <td>...</td>\n",
              "      <td>...</td>\n",
              "    </tr>\n",
              "    <tr>\n",
              "      <th>2015-12-11</th>\n",
              "      <td>749.00</td>\n",
              "      <td>757.44</td>\n",
              "      <td>748.65</td>\n",
              "      <td>750.42</td>\n",
              "      <td>2159100</td>\n",
              "    </tr>\n",
              "    <tr>\n",
              "      <th>2015-12-10</th>\n",
              "      <td>763.59</td>\n",
              "      <td>766.07</td>\n",
              "      <td>755.00</td>\n",
              "      <td>760.04</td>\n",
              "      <td>1622900</td>\n",
              "    </tr>\n",
              "    <tr>\n",
              "      <th>2015-12-09</th>\n",
              "      <td>771.10</td>\n",
              "      <td>776.09</td>\n",
              "      <td>752.01</td>\n",
              "      <td>762.55</td>\n",
              "      <td>2327400</td>\n",
              "    </tr>\n",
              "    <tr>\n",
              "      <th>2015-12-08</th>\n",
              "      <td>764.50</td>\n",
              "      <td>778.65</td>\n",
              "      <td>762.52</td>\n",
              "      <td>775.14</td>\n",
              "      <td>1554121</td>\n",
              "    </tr>\n",
              "    <tr>\n",
              "      <th>2015-12-07</th>\n",
              "      <td>780.06</td>\n",
              "      <td>781.00</td>\n",
              "      <td>766.72</td>\n",
              "      <td>772.99</td>\n",
              "      <td>1831200</td>\n",
              "    </tr>\n",
              "  </tbody>\n",
              "</table>\n",
              "<p>1259 rows × 5 columns</p>\n",
              "</div>"
            ],
            "text/plain": [
              "                 O       H       L       C        V\n",
              "Date                                               \n",
              "2020-12-04 1820.22 1829.50 1813.59 1823.76  1027242\n",
              "2020-12-03 1820.54 1843.83 1817.00 1821.84  1236366\n",
              "2020-12-02 1795.36 1832.74 1785.17 1824.97  1471235\n",
              "2020-12-01 1766.65 1821.72 1763.03 1795.36  1868134\n",
              "2020-11-30 1775.65 1780.34 1747.84 1754.40  1620887\n",
              "...            ...     ...     ...     ...      ...\n",
              "2015-12-11  749.00  757.44  748.65  750.42  2159100\n",
              "2015-12-10  763.59  766.07  755.00  760.04  1622900\n",
              "2015-12-09  771.10  776.09  752.01  762.55  2327400\n",
              "2015-12-08  764.50  778.65  762.52  775.14  1554121\n",
              "2015-12-07  780.06  781.00  766.72  772.99  1831200\n",
              "\n",
              "[1259 rows x 5 columns]"
            ]
          },
          "metadata": {
            "tags": []
          },
          "execution_count": 34
        }
      ]
    }
  ]
}