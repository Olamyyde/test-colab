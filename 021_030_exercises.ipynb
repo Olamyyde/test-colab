{
  "nbformat": 4,
  "nbformat_minor": 0,
  "metadata": {
    "colab": {
      "name": "021-030_exercises.ipynb",
      "provenance": [],
      "collapsed_sections": [],
      "include_colab_link": true
    },
    "kernelspec": {
      "name": "python3",
      "display_name": "Python 3"
    }
  },
  "cells": [
    {
      "cell_type": "markdown",
      "metadata": {
        "id": "view-in-github",
        "colab_type": "text"
      },
      "source": [
        "<a href=\"https://colab.research.google.com/github/Olamyyde/test-colab/blob/master/021_030_exercises.ipynb\" target=\"_parent\"><img src=\"https://colab.research.google.com/assets/colab-badge.svg\" alt=\"Open In Colab\"/></a>"
      ]
    },
    {
      "cell_type": "markdown",
      "metadata": {
        "id": "WLEgCW5F1hho"
      },
      "source": [
        "## Numpy\n",
        "\n",
        "### Table of contents:\n",
        "* [Import biblioteki](#0)\n",
        "* [Exercise 21](#1)\n",
        "* [Exercise 22](#2)\n",
        "* [Exercise 23](#3)\n",
        "* [Exercise 24](#4)\n",
        "* [Exercise 25](#5)\n",
        "* [Exercise 26](#6)\n",
        "* [Exercise 27](#7)\n",
        "* [Exercise 28](#8)\n",
        "* [Exercise 29](#9)\n",
        "* [Exercise 30](#10)"
      ]
    },
    {
      "cell_type": "markdown",
      "metadata": {
        "id": "zeLOLmTj1kBM"
      },
      "source": [
        "### <a name='0'></a> Import of libraries"
      ]
    },
    {
      "cell_type": "code",
      "metadata": {
        "id": "HXMB7SMe1Wnz",
        "colab": {
          "base_uri": "https://localhost:8080/",
          "height": 35
        },
        "outputId": "546004ae-d9b4-4b9d-e700-a6742ec7952d"
      },
      "source": [
        "import numpy as np\n",
        "\n",
        "np.__version__"
      ],
      "execution_count": 1,
      "outputs": [
        {
          "output_type": "execute_result",
          "data": {
            "application/vnd.google.colaboratory.intrinsic+json": {
              "type": "string"
            },
            "text/plain": [
              "'1.18.5'"
            ]
          },
          "metadata": {
            "tags": []
          },
          "execution_count": 1
        }
      ]
    },
    {
      "cell_type": "markdown",
      "metadata": {
        "id": "cyc70pMe1oCg"
      },
      "source": [
        "### <a name='1'></a> Exercise 21\n",
        "Generate the following numpy array. Save the array to a binary file named _'array.npy'_ and then load that file back into another variable.\n",
        "\n",
        "```\n",
        "array([[ 0,  1,  2,  3],\n",
        "       [ 4,  5,  6,  7],\n",
        "       [ 8,  9, 10, 11]])\n",
        "```\n",
        "__Tip:__ Use the _np.save()_ and _np.load()_ functions.\n"
      ]
    },
    {
      "cell_type": "code",
      "metadata": {
        "id": "FIgpKf-41yf1",
        "colab": {
          "base_uri": "https://localhost:8080/"
        },
        "outputId": "11c4b1ef-dcaf-49fa-fdee-48c28ac91acb"
      },
      "source": [
        "# enter solution here\n",
        "A=np.array([[ 0,  1,  2,  3],\n",
        "       [ 4,  5,  6,  7],\n",
        "       [ 8,  9, 10, 11]])\n",
        "\n",
        "np.save('array.npy', A)\n",
        "\n",
        "B=np.load('array.npy')\n",
        "B"
      ],
      "execution_count": 2,
      "outputs": [
        {
          "output_type": "execute_result",
          "data": {
            "text/plain": [
              "array([[ 0,  1,  2,  3],\n",
              "       [ 4,  5,  6,  7],\n",
              "       [ 8,  9, 10, 11]])"
            ]
          },
          "metadata": {
            "tags": []
          },
          "execution_count": 2
        }
      ]
    },
    {
      "cell_type": "markdown",
      "metadata": {
        "id": "J9pY1rtr1sC0"
      },
      "source": [
        "### <a name='2'></a> Exercise 22\n",
        "Generate the following numpy array:\n",
        "```\n",
        "array([[ 0,  1,  2,  3],\n",
        "       [ 4,  5,  6,  7],\n",
        "       [ 8,  9, 10, 11]])\n",
        "```\n",
        "\n",
        "Save the array to a text file named _'array.txt'_ with two decimal places and then load the file back into another variable.\n",
        "\n",
        "__Tip:__ Use the _np.savetxt()_ and _np.loadtxt()_ functions.\n"
      ]
    },
    {
      "cell_type": "code",
      "metadata": {
        "id": "Je9xFrAk2Gnj",
        "colab": {
          "base_uri": "https://localhost:8080/"
        },
        "outputId": "52b761f0-183e-4eaf-a460-e6aba6386af8"
      },
      "source": [
        "# enter solution here\n",
        "C=np.arange(12, dtype='int').reshape(3,4)\n",
        "\n",
        "np.savetxt('array.txt', C)\n",
        "\n",
        "D=np.loadtxt('array.txt')\n",
        "D"
      ],
      "execution_count": 3,
      "outputs": [
        {
          "output_type": "execute_result",
          "data": {
            "text/plain": [
              "array([[ 0.,  1.,  2.,  3.],\n",
              "       [ 4.,  5.,  6.,  7.],\n",
              "       [ 8.,  9., 10., 11.]])"
            ]
          },
          "metadata": {
            "tags": []
          },
          "execution_count": 3
        }
      ]
    },
    {
      "cell_type": "markdown",
      "metadata": {
        "id": "XQLYT2m11wVG"
      },
      "source": [
        "### <a name='3'></a> Exercise 23\n",
        "Generate and convert the following numpy array into a list:\n",
        "\n",
        "```\n",
        "array([[ 0,  1,  2,  3],\n",
        "       [ 4,  5,  6,  7],\n",
        "       [ 8,  9, 10, 11]])\n",
        "```\n",
        "__Tip:__ Use the _np.array.tolist()_ method.\n"
      ]
    },
    {
      "cell_type": "code",
      "metadata": {
        "id": "Er5H29cf2SDX",
        "colab": {
          "base_uri": "https://localhost:8080/"
        },
        "outputId": "7484b400-7afd-47fe-9bfd-0495694bdd4f"
      },
      "source": [
        "# enter solution here\n",
        "M=np.arange(12, dtype='int').reshape(3,4)\n",
        "M.tolist()"
      ],
      "execution_count": 4,
      "outputs": [
        {
          "output_type": "execute_result",
          "data": {
            "text/plain": [
              "[[0, 1, 2, 3], [4, 5, 6, 7], [8, 9, 10, 11]]"
            ]
          },
          "metadata": {
            "tags": []
          },
          "execution_count": 4
        }
      ]
    },
    {
      "cell_type": "markdown",
      "metadata": {
        "id": "4xTKSUzg10MK"
      },
      "source": [
        "### <a name='4'></a> Exercise 24\n",
        "The following numpy array is given:\n",
        "```\n",
        "array([[ 0,  1,  2,  3],\n",
        "       [ 4,  5,  6,  7],\n",
        "       [ 8,  9, 10, 11]])\n",
        "```\n",
        "\n",
        "Using the cut operator, transform the array into the following:\n",
        "\n",
        "* swap rows (first with last)\n",
        "\n",
        "```\n",
        "array([[ 8,  9, 10, 11],\n",
        "       [ 4,  5,  6,  7],\n",
        "       [ 0,  1,  2,  3]])\n",
        "```"
      ]
    },
    {
      "cell_type": "code",
      "metadata": {
        "id": "YUY5Bwxk2ikn",
        "colab": {
          "base_uri": "https://localhost:8080/"
        },
        "outputId": "5781fff9-62b1-4727-89d2-8cc83fbeab00"
      },
      "source": [
        "M[::-1]"
      ],
      "execution_count": 14,
      "outputs": [
        {
          "output_type": "execute_result",
          "data": {
            "text/plain": [
              "array([[ 8,  9, 10, 11],\n",
              "       [ 4,  5,  6,  7],\n",
              "       [ 0,  1,  2,  3]])"
            ]
          },
          "metadata": {
            "tags": []
          },
          "execution_count": 14
        }
      ]
    },
    {
      "cell_type": "markdown",
      "metadata": {
        "id": "HQpzwNn42lgq"
      },
      "source": [
        "* swap columns (reverse order)\n",
        "\n",
        "```\n",
        "array([[ 3,  2,  1,  0],\n",
        "       [ 7,  6,  5,  4],\n",
        "       [11, 10,  9,  8]])\n",
        "```"
      ]
    },
    {
      "cell_type": "code",
      "metadata": {
        "id": "ZO3gmwWR2p4z",
        "colab": {
          "base_uri": "https://localhost:8080/"
        },
        "outputId": "6e796fcc-481c-46d1-c0c5-5b1609495694"
      },
      "source": [
        "# enter solution here\n",
        "M[:, ::-1]"
      ],
      "execution_count": 15,
      "outputs": [
        {
          "output_type": "execute_result",
          "data": {
            "text/plain": [
              "array([[ 3,  2,  1,  0],\n",
              "       [ 7,  6,  5,  4],\n",
              "       [11, 10,  9,  8]])"
            ]
          },
          "metadata": {
            "tags": []
          },
          "execution_count": 15
        }
      ]
    },
    {
      "cell_type": "markdown",
      "metadata": {
        "id": "rw04U_Fz2sq_"
      },
      "source": [
        "* swapp rows and columns (reverse order)\n",
        "\n",
        "```\n",
        "array([[11, 10,  9,  8],\n",
        "       [ 7,  6,  5,  4],\n",
        "       [ 3,  2,  1,  0]])\n",
        "``` "
      ]
    },
    {
      "cell_type": "code",
      "metadata": {
        "id": "_u_gT-dn2v-t",
        "colab": {
          "base_uri": "https://localhost:8080/"
        },
        "outputId": "2ee176dd-467a-4e9d-bb4e-5c4a0d5a6496"
      },
      "source": [
        "# enter solution here\n",
        "M[::-1, ::-1]"
      ],
      "execution_count": 16,
      "outputs": [
        {
          "output_type": "execute_result",
          "data": {
            "text/plain": [
              "array([[11, 10,  9,  8],\n",
              "       [ 7,  6,  5,  4],\n",
              "       [ 3,  2,  1,  0]])"
            ]
          },
          "metadata": {
            "tags": []
          },
          "execution_count": 16
        }
      ]
    },
    {
      "cell_type": "markdown",
      "metadata": {
        "id": "o3HKIKlP15Ro"
      },
      "source": [
        "### <a name='5'></a> Exercise 25\n",
        "The following numpy array:\n",
        "\n",
        "```\n",
        "array([[1., 1., 1., 1.],\n",
        "       [1., 1., 1., 1.],\n",
        "       [1., 1., 1., 1.],\n",
        "       [1., 1., 1., 1.]])\n",
        "```\n",
        "Transform to array:\n",
        "\n",
        "```\n",
        "array([[0., 0., 0., 0., 0., 0.],\n",
        "       [0., 1., 1., 1., 1., 0.],\n",
        "       [0., 1., 1., 1., 1., 0.],\n",
        "       [0., 1., 1., 1., 1., 0.],\n",
        "       [0., 1., 1., 1., 1., 0.],\n",
        "       [0., 0., 0., 0., 0., 0.]])\n",
        "```\n",
        "\n",
        "__Tip:__ Use the _np.pad()_ function."
      ]
    },
    {
      "cell_type": "code",
      "metadata": {
        "id": "AvIQO9P0290E",
        "colab": {
          "base_uri": "https://localhost:8080/"
        },
        "outputId": "a4fac137-49c0-40f9-eb33-309b32d0363a"
      },
      "source": [
        "# enter solution here\n",
        "Q=np.ones(shape=(4,4))\n",
        "np.pad(Q, pad_width=1, constant_values=0)"
      ],
      "execution_count": 21,
      "outputs": [
        {
          "output_type": "execute_result",
          "data": {
            "text/plain": [
              "array([[0., 0., 0., 0., 0., 0.],\n",
              "       [0., 1., 1., 1., 1., 0.],\n",
              "       [0., 1., 1., 1., 1., 0.],\n",
              "       [0., 1., 1., 1., 1., 0.],\n",
              "       [0., 1., 1., 1., 1., 0.],\n",
              "       [0., 0., 0., 0., 0., 0.]])"
            ]
          },
          "metadata": {
            "tags": []
          },
          "execution_count": 21
        }
      ]
    },
    {
      "cell_type": "markdown",
      "metadata": {
        "id": "PunXd_Ey16so"
      },
      "source": [
        "### <a name='6'></a> Exercise 26\n",
        "The following numpy array:\n",
        "```\n",
        "array([[0, 0, 0, 0, 0, 0],\n",
        "       [0, 0, 0, 0, 0, 0],\n",
        "       [0, 0, 0, 0, 0, 0],\n",
        "       [0, 0, 0, 0, 0, 0],\n",
        "       [0, 0, 0, 0, 0, 0],\n",
        "       [0, 0, 0, 0, 0, 0]])\n",
        "```\n",
        "\n",
        "Transform to array:\n",
        "```\n",
        "array([[10,  0, 10,  0, 10,  0],\n",
        "       [ 5,  0,  5,  0,  5,  0],\n",
        "       [10,  0, 10,  0, 10,  0],\n",
        "       [ 5,  0,  5,  0,  5,  0],\n",
        "       [10,  0, 10,  0, 10,  0],\n",
        "       [ 5,  0,  5,  0,  5,  0]])\n",
        "```\n",
        "\n",
        "__Tip:__ Use the cut operator and assign the appropriate values.\n"
      ]
    },
    {
      "cell_type": "code",
      "metadata": {
        "id": "BbBTnWY33KwL",
        "colab": {
          "base_uri": "https://localhost:8080/"
        },
        "outputId": "51d18ef0-a3a4-4fbb-e73e-f7727216171a"
      },
      "source": [
        "# enter solution here\n",
        "E=np.zeros((6,6), dtype='int')\n"
      ],
      "execution_count": 23,
      "outputs": [
        {
          "output_type": "execute_result",
          "data": {
            "text/plain": [
              "array([[0, 0, 0, 0, 0, 0],\n",
              "       [0, 0, 0, 0, 0, 0],\n",
              "       [0, 0, 0, 0, 0, 0],\n",
              "       [0, 0, 0, 0, 0, 0],\n",
              "       [0, 0, 0, 0, 0, 0],\n",
              "       [0, 0, 0, 0, 0, 0]])"
            ]
          },
          "metadata": {
            "tags": []
          },
          "execution_count": 23
        }
      ]
    },
    {
      "cell_type": "markdown",
      "metadata": {
        "id": "hOhqDRz618Tx"
      },
      "source": [
        "### <a name='7'></a> Exercise 27\n",
        "Combine the following arrays: $ A $ and $ B $ into one array.\n",
        "\n",
        "```\n",
        "A = np.arange(12).reshape(-1, 4)\n",
        "B = np.array([[4, 3, 7, 2],\n",
        "              [0, 5, 2, 6]])\n",
        "```\n",
        "\n",
        "__The expected result:__\n",
        "\n",
        "```\n",
        "array([[ 0,  1,  2,  3],\n",
        "       [ 4,  5,  6,  7],\n",
        "       [ 8,  9, 10, 11],\n",
        "       [ 4,  3,  7,  2],\n",
        "       [ 0,  5,  2,  6]])\n",
        "```\n",
        "\n",
        "__Tip:__ Use the _np.append()_ function.\n"
      ]
    },
    {
      "cell_type": "code",
      "metadata": {
        "id": "Bow8cAUL3Z33"
      },
      "source": [
        "# enter solution here"
      ],
      "execution_count": 10,
      "outputs": []
    },
    {
      "cell_type": "markdown",
      "metadata": {
        "id": "TXUd_4631-gw"
      },
      "source": [
        "### <a name='8'></a> Exercise 28\n",
        "Use the $ A $ and $ B $ arrays below to extract the common elements (intersection) of the arrays.\n",
        "\n",
        "```\n",
        "A = np.arange(8).reshape(-1, 4)\n",
        "B = np.array([[9, 10, 11, 3],\n",
        "              [2, 8, 0, 9]])      \n",
        "```\n",
        "__Tip:__ Use the _np.intersect1d()_ function."
      ]
    },
    {
      "cell_type": "code",
      "metadata": {
        "id": "2yPkHvfN3nOl",
        "colab": {
          "base_uri": "https://localhost:8080/"
        },
        "outputId": "920a42ac-3741-4cf8-d9e9-62a4430cfbe4"
      },
      "source": [
        "# enter solution here\n",
        "A = np.arange(8).reshape(-1, 4)\n",
        "B = np.array([[9, 10, 11, 3],\n",
        "              [2, 8, 0, 9]])  \n",
        "\n",
        "np.intersect1d(A,B)"
      ],
      "execution_count": 27,
      "outputs": [
        {
          "output_type": "execute_result",
          "data": {
            "text/plain": [
              "array([0, 2, 3])"
            ]
          },
          "metadata": {
            "tags": []
          },
          "execution_count": 27
        }
      ]
    },
    {
      "cell_type": "markdown",
      "metadata": {
        "id": "tgI6xEn-2AQo"
      },
      "source": [
        "### <a name='9'></a> Exercise 29\n",
        "The following numpy array $ A $ is given.\n",
        "Find the unique values of this array.\n",
        "\n",
        "```\n",
        "A = np.array([[5, 1, 2, 1, 2],\n",
        "              [9, 1, 9, 7, 5],\n",
        "              [4, 1, 5, 7, 9]])\n",
        "```\n",
        "\n",
        "__Tip:__ Use the _np.unique()_ function."
      ]
    },
    {
      "cell_type": "code",
      "metadata": {
        "id": "gtaiwfCS33Pl",
        "colab": {
          "base_uri": "https://localhost:8080/"
        },
        "outputId": "4c513c60-323b-46fe-cf0b-502f7a02438e"
      },
      "source": [
        "# enter solution here\n",
        "A = np.array([[5, 1, 2, 1, 2],\n",
        "              [9, 1, 9, 7, 5],\n",
        "              [4, 1, 5, 7, 9]])\n",
        "\n",
        "np.unique(A)"
      ],
      "execution_count": 25,
      "outputs": [
        {
          "output_type": "execute_result",
          "data": {
            "text/plain": [
              "array([1, 2, 4, 5, 7, 9])"
            ]
          },
          "metadata": {
            "tags": []
          },
          "execution_count": 25
        }
      ]
    },
    {
      "cell_type": "markdown",
      "metadata": {
        "id": "wxhpf-uq2B1I"
      },
      "source": [
        "### <a name='10'></a> Exercise 30\n",
        "The array below is given:\n",
        "```\n",
        "A = np.array([[0.4, 0.3, 0.3],\n",
        "              [0.1, 0.1, 0.8],\n",
        "              [0.2, 0.5, 0.3]])\n",
        "```\n",
        "Return indexes with maximum values for a given row.\n",
        "\n",
        "__Tip:__ Use the _np.argmax()_ function."
      ]
    },
    {
      "cell_type": "code",
      "metadata": {
        "id": "YFc0KW6URsuc",
        "colab": {
          "base_uri": "https://localhost:8080/"
        },
        "outputId": "dd0ac856-7fa6-4990-d789-19acb1a18e7a"
      },
      "source": [
        "# enter solution here\n",
        "A = np.array([[0.4, 0.3, 0.3],\n",
        "              [0.1, 0.1, 0.8],\n",
        "              [0.2, 0.5, 0.3]])\n",
        "\n",
        "np.argmax(A, axis=1)"
      ],
      "execution_count": 24,
      "outputs": [
        {
          "output_type": "execute_result",
          "data": {
            "text/plain": [
              "array([0, 2, 1])"
            ]
          },
          "metadata": {
            "tags": []
          },
          "execution_count": 24
        }
      ]
    }
  ]
}