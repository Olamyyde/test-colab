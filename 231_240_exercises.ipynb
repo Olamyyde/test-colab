{
  "nbformat": 4,
  "nbformat_minor": 0,
  "metadata": {
    "colab": {
      "name": "Copy of 231-240_exercises.ipynb",
      "provenance": [],
      "collapsed_sections": [],
      "include_colab_link": true
    },
    "kernelspec": {
      "name": "python3",
      "display_name": "Python 3"
    }
  },
  "cells": [
    {
      "cell_type": "markdown",
      "metadata": {
        "id": "view-in-github",
        "colab_type": "text"
      },
      "source": [
        "<a href=\"https://colab.research.google.com/github/Olamyyde/test-colab/blob/master/231_240_exercises.ipynb\" target=\"_parent\"><img src=\"https://colab.research.google.com/assets/colab-badge.svg\" alt=\"Open In Colab\"/></a>"
      ]
    },
    {
      "cell_type": "markdown",
      "metadata": {
        "id": "WLEgCW5F1hho"
      },
      "source": [
        "## Data Science Bootcamp\n",
        "\n",
        "### Table of contents:\n",
        "* [Import biblioteki](#0)\n",
        "* [Exercise 231](#1)\n",
        "* [Exercise 232](#2)\n",
        "* [Exercise 233](#3)\n",
        "* [Exercise 234](#4)\n",
        "* [Exercise 235](#5)\n",
        "* [Exercise 236](#6)\n",
        "* [Exercise 237](#7)\n",
        "* [Exercise 238](#8)\n",
        "* [Exercise 239](#9)\n",
        "* [Exercise 240](#10)"
      ]
    },
    {
      "cell_type": "markdown",
      "metadata": {
        "id": "zeLOLmTj1kBM"
      },
      "source": [
        "### <a name='0'></a> Import of libraries"
      ]
    },
    {
      "cell_type": "code",
      "metadata": {
        "id": "HXMB7SMe1Wnz"
      },
      "source": [
        "import numpy as np\n",
        "import pandas as pd\n",
        "\n",
        "np.__version__"
      ],
      "execution_count": null,
      "outputs": []
    },
    {
      "cell_type": "markdown",
      "metadata": {
        "id": "cyc70pMe1oCg"
      },
      "source": [
        "### <a name='1'></a> Exercise 231\n",
        "Import the _tensorflow_ version 2.x library."
      ]
    },
    {
      "cell_type": "code",
      "metadata": {
        "id": "T3dLQOtLQXc7",
        "colab": {
          "base_uri": "https://localhost:8080/",
          "height": 35
        },
        "outputId": "284bebbf-5bd7-408a-8193-e748b6f7693c"
      },
      "source": [
        "# enter solution here\n",
        " \n",
        "import tensorflow as tf\n",
        " \n",
        "tf.__version__"
      ],
      "execution_count": 1,
      "outputs": [
        {
          "output_type": "execute_result",
          "data": {
            "application/vnd.google.colaboratory.intrinsic+json": {
              "type": "string"
            },
            "text/plain": [
              "'2.3.0'"
            ]
          },
          "metadata": {
            "tags": []
          },
          "execution_count": 1
        }
      ]
    },
    {
      "cell_type": "markdown",
      "metadata": {
        "id": "pERxhN5PQboT"
      },
      "source": [
        "Load Fashion MNIST data using the _tensorflow_ library. Training set (_X\\_train_, _y\\_train_) and test set (_X\\_test_, _y\\_test_) respectively."
      ]
    },
    {
      "cell_type": "code",
      "metadata": {
        "id": "RnFgHjHXQhqx",
        "colab": {
          "base_uri": "https://localhost:8080/"
        },
        "outputId": "6e8e7a24-1d39-4f7e-8c81-ca8e289ea8af"
      },
      "source": [
        "# enter solution here\n",
        "from tensorflow.keras.datasets.fashion_mnist import load_data\n",
        " \n",
        "(X_train, y_train), (X_test, y_test) = load_data()"
      ],
      "execution_count": 2,
      "outputs": [
        {
          "output_type": "stream",
          "text": [
            "Downloading data from https://storage.googleapis.com/tensorflow/tf-keras-datasets/train-labels-idx1-ubyte.gz\n",
            "32768/29515 [=================================] - 0s 0us/step\n",
            "Downloading data from https://storage.googleapis.com/tensorflow/tf-keras-datasets/train-images-idx3-ubyte.gz\n",
            "26427392/26421880 [==============================] - 0s 0us/step\n",
            "Downloading data from https://storage.googleapis.com/tensorflow/tf-keras-datasets/t10k-labels-idx1-ubyte.gz\n",
            "8192/5148 [===============================================] - 0s 0us/step\n",
            "Downloading data from https://storage.googleapis.com/tensorflow/tf-keras-datasets/t10k-images-idx3-ubyte.gz\n",
            "4423680/4422102 [==============================] - 0s 0us/step\n"
          ],
          "name": "stdout"
        }
      ]
    },
    {
      "cell_type": "markdown",
      "metadata": {
        "id": "i4DtE_7hQj-K"
      },
      "source": [
        "Check the size of training and test sets."
      ]
    },
    {
      "cell_type": "code",
      "metadata": {
        "id": "oA8XcYMlQk95",
        "colab": {
          "base_uri": "https://localhost:8080/"
        },
        "outputId": "d3dc202e-c45a-410b-c40c-5dcc239df665"
      },
      "source": [
        "# enter solution here\n",
        "print('X_train shape: ' , X_train.shape) \n",
        "print('y_train shape: ' , y_train.shape) \n",
        "print('X_test shape: ' , X_test.shape) \n",
        "print('y_test shape: ' , y_test.shape)"
      ],
      "execution_count": 3,
      "outputs": [
        {
          "output_type": "stream",
          "text": [
            "X_train shape:  (60000, 28, 28)\n",
            "y_train shape:  (60000,)\n",
            "X_test shape:  (10000, 28, 28)\n",
            "y_test shape:  (10000,)\n"
          ],
          "name": "stdout"
        }
      ]
    },
    {
      "cell_type": "markdown",
      "metadata": {
        "id": "J9pY1rtr1sC0"
      },
      "source": [
        "### <a name='2'></a> Exercise 232\n",
        "Using the _matplotlib_ library, display an image from the training set with the index 40.\n"
      ]
    },
    {
      "cell_type": "code",
      "metadata": {
        "id": "6pM05jkZQpeL",
        "colab": {
          "base_uri": "https://localhost:8080/",
          "height": 282
        },
        "outputId": "9fe606dd-d90d-4bf9-b642-3b2fbc55b923"
      },
      "source": [
        " \n",
        "# enter solution here\n",
        "import matplotlib.pyplot as plt\n",
        " \n",
        " \n",
        "plt.imshow(X_train[40], cmap='gray_r')"
      ],
      "execution_count": 5,
      "outputs": [
        {
          "output_type": "execute_result",
          "data": {
            "text/plain": [
              "<matplotlib.image.AxesImage at 0x7f5b4f7e29b0>"
            ]
          },
          "metadata": {
            "tags": []
          },
          "execution_count": 5
        },
        {
          "output_type": "display_data",
          "data": {
            "image/png": "[encoded data removed]",
            "text/plain": [
              "<Figure size 432x288 with 1 Axes>"
            ]
          },
          "metadata": {
            "tags": [],
            "needs_background": "light"
          }
        }
      ]
    },
    {
      "cell_type": "markdown",
      "metadata": {
        "id": "qX2XPzcBQrdn"
      },
      "source": [
        "Display class number for a sample from a training set with an index of 40."
      ]
    },
    {
      "cell_type": "code",
      "metadata": {
        "id": "qPvyq-Y-Qset",
        "colab": {
          "base_uri": "https://localhost:8080/"
        },
        "outputId": "c97c28e6-f68b-4bf8-be61-1c3dc6bbdf5b"
      },
      "source": [
        "# enter solution here\n",
        "y_train[40]"
      ],
      "execution_count": 6,
      "outputs": [
        {
          "output_type": "execute_result",
          "data": {
            "text/plain": [
              "6"
            ]
          },
          "metadata": {
            "tags": []
          },
          "execution_count": 6
        }
      ]
    },
    {
      "cell_type": "markdown",
      "metadata": {
        "id": "XQLYT2m11wVG"
      },
      "source": [
        "### <a name='3'></a> Exercise 233\n",
        "\n",
        "Standardize the data. Divide the values of the _X\\_train_ and _X\\_test_ tables by the value of 255.0."
      ]
    },
    {
      "cell_type": "code",
      "metadata": {
        "id": "EpXKRTzXQ1FL"
      },
      "source": [
        "# enter solution here\r\n",
        "\r\n"
      ],
      "execution_count": null,
      "outputs": []
    },
    {
      "cell_type": "markdown",
      "metadata": {
        "id": "4xTKSUzg10MK"
      },
      "source": [
        "### <a name='4'></a> Exercise 234\n",
        "Import the _Sequential_ class from the _tensorflow_ library using the _keras_ package."
      ]
    },
    {
      "cell_type": "code",
      "metadata": {
        "id": "liCpMz5xQ5SF"
      },
      "source": [
        "# enter solution here\r\n"
      ],
      "execution_count": null,
      "outputs": []
    },
    {
      "cell_type": "markdown",
      "metadata": {
        "id": "QNK4AoWFQ7MF"
      },
      "source": [
        "Import the _Flatten_ and _Dense_ layers from the _tensorflow_ library using the _keras_ package."
      ]
    },
    {
      "cell_type": "code",
      "metadata": {
        "id": "iBuiMJggQ8a_"
      },
      "source": [
        "# enter solution here"
      ],
      "execution_count": null,
      "outputs": []
    },
    {
      "cell_type": "markdown",
      "metadata": {
        "id": "o3HKIKlP15Ro"
      },
      "source": [
        "### <a name='5'></a> Exercise 235\n",
        "Build the _Sequential_ class model."
      ]
    },
    {
      "cell_type": "code",
      "metadata": {
        "id": "nEt769rtRAlj"
      },
      "source": [
        "# enter solution here"
      ],
      "execution_count": null,
      "outputs": []
    },
    {
      "cell_type": "markdown",
      "metadata": {
        "id": "uJ8HBohiRDHF"
      },
      "source": [
        "Add the first layer of type _Flatten_ with the appropriately selected parameter _input_shape_."
      ]
    },
    {
      "cell_type": "code",
      "metadata": {
        "id": "-748cYIURIe-"
      },
      "source": [
        "# enter solution here"
      ],
      "execution_count": null,
      "outputs": []
    },
    {
      "cell_type": "markdown",
      "metadata": {
        "id": "F6Yw86ZXRKqT"
      },
      "source": [
        "Add another layer of _Dense_ type with 128 neurons and _relu_ activation function."
      ]
    },
    {
      "cell_type": "code",
      "metadata": {
        "id": "vhucX_r7RMaA"
      },
      "source": [
        "# enter solution here"
      ],
      "execution_count": null,
      "outputs": []
    },
    {
      "cell_type": "markdown",
      "metadata": {
        "id": "ap7NF_IUROKS"
      },
      "source": [
        "Add the last layer of type _Dense_ with 10 neurons and the activation function _softmax_."
      ]
    },
    {
      "cell_type": "code",
      "metadata": {
        "id": "aCMMPYgTRPpM"
      },
      "source": [
        "# enter solution here"
      ],
      "execution_count": null,
      "outputs": []
    },
    {
      "cell_type": "markdown",
      "metadata": {
        "id": "X2PM0SqeRTg4"
      },
      "source": [
        "Display model summary."
      ]
    },
    {
      "cell_type": "code",
      "metadata": {
        "id": "rummYYG9RVow"
      },
      "source": [
        "# enter solution here"
      ],
      "execution_count": null,
      "outputs": []
    },
    {
      "cell_type": "markdown",
      "metadata": {
        "id": "PunXd_Ey16so"
      },
      "source": [
        "### <a name='6'></a> Exercise 236\n",
        "Compile the model. Use the _rmsprop_ optimizer, the loss function _sparse_categorical_crossentropy_, and the _accuracy_ metric."
      ]
    },
    {
      "cell_type": "code",
      "metadata": {
        "id": "daSnIuGSRc2p"
      },
      "source": [
        "# enter solution here"
      ],
      "execution_count": null,
      "outputs": []
    },
    {
      "cell_type": "markdown",
      "metadata": {
        "id": "hOhqDRz618Tx"
      },
      "source": [
        "### <a name='7'></a> Exercise 237\n",
        "Fit the model to your training data by setting 10 epochs and `validation_split=0.2`."
      ]
    },
    {
      "cell_type": "code",
      "metadata": {
        "id": "g7ttVfXTRo05"
      },
      "source": [
        "# enter solution here"
      ],
      "execution_count": null,
      "outputs": []
    },
    {
      "cell_type": "markdown",
      "metadata": {
        "id": "TXUd_4631-gw"
      },
      "source": [
        "### <a name='8'></a> Exercise 238\n",
        "Predict test data based on the model."
      ]
    },
    {
      "cell_type": "code",
      "metadata": {
        "id": "62XlfmrrRuMR"
      },
      "source": [
        "# enter solution here"
      ],
      "execution_count": null,
      "outputs": []
    },
    {
      "cell_type": "markdown",
      "metadata": {
        "id": "r9JNZ5YwRyai"
      },
      "source": [
        "Build a confusion matrix."
      ]
    },
    {
      "cell_type": "code",
      "metadata": {
        "id": "E7BNP0p-R0fp"
      },
      "source": [
        "# enter solution here"
      ],
      "execution_count": null,
      "outputs": []
    },
    {
      "cell_type": "markdown",
      "metadata": {
        "id": "tgI6xEn-2AQo"
      },
      "source": [
        "### <a name='9'></a> Exercise 239\n",
        "Build the _DataFrame_ pandas object containing model predictions. Name the column _prediction_ and assign it to the variable _results_."
      ]
    },
    {
      "cell_type": "code",
      "metadata": {
        "id": "dui4Uk8LR6-L"
      },
      "source": [
        "# enter solution here"
      ],
      "execution_count": null,
      "outputs": []
    },
    {
      "cell_type": "markdown",
      "metadata": {
        "id": "UmwurzYrR9J5"
      },
      "source": [
        "Assign a new column with the values from the _y\\_test_ variable and name it _y\\_test_."
      ]
    },
    {
      "cell_type": "code",
      "metadata": {
        "id": "uYprLS7hSAeJ"
      },
      "source": [
        "# enter solution here"
      ],
      "execution_count": null,
      "outputs": []
    },
    {
      "cell_type": "markdown",
      "metadata": {
        "id": "8T8LblXSSCgW"
      },
      "source": [
        "Assign a new column called _is_misclassified_ that will return 1 if the samples are misclassified, otherwise 0."
      ]
    },
    {
      "cell_type": "code",
      "metadata": {
        "id": "xmfqVi2jSFKy"
      },
      "source": [
        "# enter solution here"
      ],
      "execution_count": null,
      "outputs": []
    },
    {
      "cell_type": "markdown",
      "metadata": {
        "id": "wxhpf-uq2B1I"
      },
      "source": [
        "### <a name='10'></a> Exercise 240\n",
        "Save the _results_ to the _results.csv_ file."
      ]
    },
    {
      "cell_type": "code",
      "metadata": {
        "id": "YFc0KW6URsuc"
      },
      "source": [
        "# enter solution here"
      ],
      "execution_count": null,
      "outputs": []
    },
    {
      "cell_type": "markdown",
      "metadata": {
        "id": "s3sokJz_aC3e"
      },
      "source": [
        "Check the solution."
      ]
    },
    {
      "cell_type": "code",
      "metadata": {
        "id": "pGzWqZzuSKre"
      },
      "source": [
        "!head results.csv"
      ],
      "execution_count": null,
      "outputs": []
    }
  ]
}