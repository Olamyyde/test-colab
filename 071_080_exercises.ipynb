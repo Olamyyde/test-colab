{
  "nbformat": 4,
  "nbformat_minor": 0,
  "metadata": {
    "colab": {
      "name": "071-080_exercises.ipynb",
      "provenance": [],
      "collapsed_sections": [],
      "include_colab_link": true
    },
    "kernelspec": {
      "name": "python3",
      "display_name": "Python 3"
    }
  },
  "cells": [
    {
      "cell_type": "markdown",
      "metadata": {
        "id": "view-in-github",
        "colab_type": "text"
      },
      "source": [
        "<a href=\"https://colab.research.google.com/github/Olamyyde/test-colab/blob/master/071_080_exercises.ipynb\" target=\"_parent\"><img src=\"https://colab.research.google.com/assets/colab-badge.svg\" alt=\"Open In Colab\"/></a>"
      ]
    },
    {
      "cell_type": "markdown",
      "metadata": {
        "id": "WLEgCW5F1hho"
      },
      "source": [
        "## Numpy\n",
        "\n",
        "### Table of contents:\n",
        "* [Import biblioteki](#0)\n",
        "* [Exercise 71](#1)\n",
        "* [Exercise 72](#2)\n",
        "* [Exercise 73](#3)\n",
        "* [Exercise 74](#4)\n",
        "* [Exercise 75](#5)\n",
        "* [Exercise 76](#6)\n",
        "* [Exercise 77](#7)\n",
        "* [Exercise 78](#8)\n",
        "* [Exercise 79](#9)\n",
        "* [Exercise 80](#10)"
      ]
    },
    {
      "cell_type": "markdown",
      "metadata": {
        "id": "zeLOLmTj1kBM"
      },
      "source": [
        "### <a name='0'></a> Import of libraries"
      ]
    },
    {
      "cell_type": "code",
      "metadata": {
        "id": "HXMB7SMe1Wnz",
        "colab": {
          "base_uri": "https://localhost:8080/",
          "height": 35
        },
        "outputId": "5cdcfc08-decd-461b-ab03-43cfae6ed4ee"
      },
      "source": [
        "import numpy as np\n",
        "\n",
        "np.random.seed(42)\n",
        "np.__version__"
      ],
      "execution_count": 1,
      "outputs": [
        {
          "output_type": "execute_result",
          "data": {
            "application/vnd.google.colaboratory.intrinsic+json": {
              "type": "string"
            },
            "text/plain": [
              "'1.18.5'"
            ]
          },
          "metadata": {
            "tags": []
          },
          "execution_count": 1
        }
      ]
    },
    {
      "cell_type": "markdown",
      "metadata": {
        "id": "cyc70pMe1oCg"
      },
      "source": [
        "### <a name='1'></a> Exercise 71\n",
        "The following $ A $ array is given:\n",
        "```\n",
        "A = np.array([['id', 'price'],\n",
        "              ['001', 14.99],\n",
        "              ['002', 4.99],\n",
        "              ['003', 7.99],\n",
        "              ['004', 2.49],\n",
        "              ['005', 1.49]])\n",
        "```\n",
        "From the second row of the $ A $ array, randomly shuffle the rows in the array.\n",
        "\n",
        "__Tip:__ Use the _np.random.shuffle()_ function.\n"
      ]
    },
    {
      "cell_type": "code",
      "metadata": {
        "id": "HgwIttAJzJr3",
        "colab": {
          "base_uri": "https://localhost:8080/"
        },
        "outputId": "acbc589b-aa87-45b0-b4c6-226d7367d6aa"
      },
      "source": [
        "# enter solution here\n",
        "A = np.array([['id', 'price'],\n",
        "              ['001', 14.99],\n",
        "              ['002', 4.99],\n",
        "              ['003', 7.99],\n",
        "              ['004', 2.49],\n",
        "              ['005', 1.49]])\n",
        "\n",
        "A.shape"
      ],
      "execution_count": 2,
      "outputs": [
        {
          "output_type": "execute_result",
          "data": {
            "text/plain": [
              "(6, 2)"
            ]
          },
          "metadata": {
            "tags": []
          },
          "execution_count": 2
        }
      ]
    },
    {
      "cell_type": "code",
      "metadata": {
        "id": "4EBsXjOjrNIG",
        "outputId": "bdb46c23-0bad-4b7e-dab1-875bb277eb0c",
        "colab": {
          "base_uri": "https://localhost:8080/"
        }
      },
      "source": [
        "np.random.shuffle(A[1:])\n",
        "A"
      ],
      "execution_count": 3,
      "outputs": [
        {
          "output_type": "execute_result",
          "data": {
            "text/plain": [
              "array([['id', 'price'],\n",
              "       ['002', '4.99'],\n",
              "       ['005', '1.49'],\n",
              "       ['003', '7.99'],\n",
              "       ['001', '14.99'],\n",
              "       ['004', '2.49']], dtype='<U5')"
            ]
          },
          "metadata": {
            "tags": []
          },
          "execution_count": 3
        }
      ]
    },
    {
      "cell_type": "markdown",
      "metadata": {
        "id": "J9pY1rtr1sC0"
      },
      "source": [
        "### <a name='2'></a> Exercise 72\n",
        "The following array $ A $ is given:\n",
        "\n",
        "```\n",
        "A = np.array([0.2, 0.15, 0.1, 0.3, 0.2, 0.05])\n",
        "```\n",
        "Return an array of indexes that will sort the array $ A $ in ascending order.\n",
        "\n",
        "__Expected result:__\n",
        "\n",
        "```\n",
        "array([5, 2, 1, 0, 4, 3])\n",
        "```\n",
        "__Tip:__ Use the _np.argsort()_ function.\n"
      ]
    },
    {
      "cell_type": "code",
      "metadata": {
        "id": "KiBwSOtRzcmv",
        "colab": {
          "base_uri": "https://localhost:8080/"
        },
        "outputId": "3e408188-8bf0-4720-c73d-3beea93edd31"
      },
      "source": [
        "# enter solution here\n",
        "A = np.array([0.2, 0.15, 0.1, 0.3, 0.2, 0.05])\n",
        "\n",
        "np.argsort(A)"
      ],
      "execution_count": 4,
      "outputs": [
        {
          "output_type": "execute_result",
          "data": {
            "text/plain": [
              "array([5, 2, 1, 0, 4, 3])"
            ]
          },
          "metadata": {
            "tags": []
          },
          "execution_count": 4
        }
      ]
    },
    {
      "cell_type": "markdown",
      "metadata": {
        "id": "XQLYT2m11wVG"
      },
      "source": [
        "### <a name='3'></a> Exercise 73\n",
        "\n",
        "The following array $ A $ is given:\n",
        "```\n",
        "A = np.random.randn(10, 8)\n",
        "```\n",
        "Round the values of this array to three decimal places.\n",
        "\n",
        "__Tip:__ Use the function _np.round()_.\n"
      ]
    },
    {
      "cell_type": "code",
      "metadata": {
        "id": "n6ESDWCszmuq",
        "colab": {
          "base_uri": "https://localhost:8080/"
        },
        "outputId": "8db80789-7359-4cb1-b8c4-357febc82610"
      },
      "source": [
        "# enter solution here\n",
        "A = np.random.randn(10, 8)\n",
        "\n",
        "np.round(A, decimals=3)"
      ],
      "execution_count": 7,
      "outputs": [
        {
          "output_type": "execute_result",
          "data": {
            "text/plain": [
              "array([[ 0.063,  0.502, -0.147,  0.181,  0.965, -1.065,  0.109,  0.106],\n",
              "       [ 0.921, -0.227,  0.653,  1.103, -1.85 ,  1.169, -0.985, -1.094],\n",
              "       [-2.879, -0.803, -0.005, -0.383, -0.463, -1.112,  0.867,  0.958],\n",
              "       [ 0.418, -1.887,  2.273,  0.147,  0.54 , -1.498, -0.011,  0.413],\n",
              "       [-0.141,  0.872,  1.3  , -1.344,  0.85 ,  0.394, -0.005, -1.571],\n",
              "       [ 1.48 ,  0.397, -1.783, -0.243,  0.327,  0.507, -0.128,  0.342],\n",
              "       [ 2.119,  1.547, -0.95 , -0.597, -0.111, -1.749, -1.341, -1.622],\n",
              "       [-1.148,  1.39 , -0.855, -1.027,  0.883, -0.449,  0.419, -0.728],\n",
              "       [-1.802,  0.468, -1.551, -0.51 , -0.733,  0.195, -0.556, -0.128],\n",
              "       [-1.561,  2.   , -1.2  ,  1.201,  0.15 ,  0.141,  0.354, -1.88 ]])"
            ]
          },
          "metadata": {
            "tags": []
          },
          "execution_count": 7
        }
      ]
    },
    {
      "cell_type": "markdown",
      "metadata": {
        "id": "4xTKSUzg10MK"
      },
      "source": [
        "### <a name='4'></a> Exercise 74\n",
        "Determine the roots of the polynomial:\n",
        "* $W(x) = 4x^2 + 5x + 1$\n",
        "\n",
        "Check the solution.\n",
        "\n",
        "__Tip:__ Use the _np.roots()_ and _np.polyval()_ functions."
      ]
    },
    {
      "cell_type": "code",
      "metadata": {
        "id": "ciQ9bE-tz4KR",
        "colab": {
          "base_uri": "https://localhost:8080/"
        },
        "outputId": "a20ed372-d678-444c-a0b1-6a8d349f6e68"
      },
      "source": [
        "# enter solution here\n",
        "W=np.array([4,5,1])\n",
        "np.roots(W)"
      ],
      "execution_count": 9,
      "outputs": [
        {
          "output_type": "execute_result",
          "data": {
            "text/plain": [
              "array([-1.  , -0.25])"
            ]
          },
          "metadata": {
            "tags": []
          },
          "execution_count": 9
        }
      ]
    },
    {
      "cell_type": "code",
      "metadata": {
        "id": "b4iVmwWi2gL5",
        "outputId": "0ac6452a-372b-48d1-9f16-00d1a623ede5",
        "colab": {
          "base_uri": "https://localhost:8080/"
        }
      },
      "source": [
        "print(np.polyval(W, -1))\n",
        "print(np.polyval(W, -0.25))"
      ],
      "execution_count": 11,
      "outputs": [
        {
          "output_type": "stream",
          "text": [
            "0\n",
            "0.0\n"
          ],
          "name": "stdout"
        }
      ]
    },
    {
      "cell_type": "markdown",
      "metadata": {
        "id": "o3HKIKlP15Ro"
      },
      "source": [
        "### <a name='5'></a> Exercise 75\n",
        "Determine the roots of polynomials:\n",
        "* $Q(x) = 2x^3 + 4x^2 -5x + 1$\n",
        "* $R(x) = 2x^3 -5x + 1$\n",
        "\n",
        "__Tip:__ Use the _np.roots()_ function.\n"
      ]
    },
    {
      "cell_type": "code",
      "metadata": {
        "id": "M1rA_HU50DQU",
        "colab": {
          "base_uri": "https://localhost:8080/"
        },
        "outputId": "a14c1c2f-5519-448a-f71a-58c6ab6ed7c1"
      },
      "source": [
        "# enter solution here\n",
        "Q=np.array([2,4,-5,1])\n",
        "R=np.array([2,-5,1])\n",
        "\n",
        "print(np.roots(Q))\n",
        "print(np.roots(R))"
      ],
      "execution_count": 12,
      "outputs": [
        {
          "output_type": "stream",
          "text": [
            "[-2.91610583  0.65388685  0.26221898]\n",
            "[2.28077641 0.21922359]\n"
          ],
          "name": "stdout"
        }
      ]
    },
    {
      "cell_type": "markdown",
      "metadata": {
        "id": "PunXd_Ey16so"
      },
      "source": [
        "### <a name='6'></a> Exercise 76\n",
        "Polynomials are given:\n",
        "* $W(x) = 4x^2 + 5x + 1$\n",
        "* $Q(x) = 2x^3 + 4x^2 -5x + 1$\n"
      ]
    },
    {
      "cell_type": "code",
      "metadata": {
        "id": "rq_SzME10KXX"
      },
      "source": [
        "# enter solution here\n",
        "W = np.array([4, 5, 1])\n",
        "Q = np.array([2, 4, -5, 1])"
      ],
      "execution_count": 13,
      "outputs": []
    },
    {
      "cell_type": "markdown",
      "metadata": {
        "id": "N6cZ92NR0Nl5"
      },
      "source": [
        "Perform:\n",
        "* $ W (x) + Q (x) $"
      ]
    },
    {
      "cell_type": "code",
      "metadata": {
        "id": "xCQzPpzp0Qkj",
        "colab": {
          "base_uri": "https://localhost:8080/"
        },
        "outputId": "0fd0bd96-a92a-4227-becc-1a8f85c7fab8"
      },
      "source": [
        "# enter solution here\n",
        "np.polyadd(W, Q)"
      ],
      "execution_count": 14,
      "outputs": [
        {
          "output_type": "execute_result",
          "data": {
            "text/plain": [
              "array([2, 8, 0, 2])"
            ]
          },
          "metadata": {
            "tags": []
          },
          "execution_count": 14
        }
      ]
    },
    {
      "cell_type": "markdown",
      "metadata": {
        "id": "Ykk5myN_0RzN"
      },
      "source": [
        "* $W(x) - Q(x)$\n"
      ]
    },
    {
      "cell_type": "code",
      "metadata": {
        "id": "YZjEl1un0S9x",
        "colab": {
          "base_uri": "https://localhost:8080/"
        },
        "outputId": "1e28f6f7-a04b-4cde-f220-3b04ac469548"
      },
      "source": [
        "# enter solution here\n",
        "np.polysub(W, Q)"
      ],
      "execution_count": 15,
      "outputs": [
        {
          "output_type": "execute_result",
          "data": {
            "text/plain": [
              "array([-2,  0, 10,  0])"
            ]
          },
          "metadata": {
            "tags": []
          },
          "execution_count": 15
        }
      ]
    },
    {
      "cell_type": "markdown",
      "metadata": {
        "id": "LhAWWJjL0Uen"
      },
      "source": [
        "* $W(x) * Q(x)$\n"
      ]
    },
    {
      "cell_type": "code",
      "metadata": {
        "id": "hx7SGBax0V22",
        "colab": {
          "base_uri": "https://localhost:8080/"
        },
        "outputId": "abb2e86a-0574-40a7-8501-79a8237d0e07"
      },
      "source": [
        "# enter solution here\n",
        "np.polymul(W, Q)"
      ],
      "execution_count": 16,
      "outputs": [
        {
          "output_type": "execute_result",
          "data": {
            "text/plain": [
              "array([  8,  26,   2, -17,   0,   1])"
            ]
          },
          "metadata": {
            "tags": []
          },
          "execution_count": 16
        }
      ]
    },
    {
      "cell_type": "markdown",
      "metadata": {
        "id": "oS3Qswrl0XRp"
      },
      "source": [
        "* $W(x) + 2Q(x)$"
      ]
    },
    {
      "cell_type": "code",
      "metadata": {
        "id": "GskzlXBy0Ymo",
        "colab": {
          "base_uri": "https://localhost:8080/"
        },
        "outputId": "cf4b3af0-692a-4141-946d-283ffcc8acb6"
      },
      "source": [
        "# enter solution here\n",
        "np.polyadd(W, 2*Q)"
      ],
      "execution_count": 17,
      "outputs": [
        {
          "output_type": "execute_result",
          "data": {
            "text/plain": [
              "array([ 4, 12, -5,  3])"
            ]
          },
          "metadata": {
            "tags": []
          },
          "execution_count": 17
        }
      ]
    },
    {
      "cell_type": "markdown",
      "metadata": {
        "id": "hOhqDRz618Tx"
      },
      "source": [
        "### <a name='7'></a> Exercise 77\n",
        "The array below is given:\n",
        "\n",
        "```\n",
        "A = np.array([[-4, 3, 0, 1, -5],\n",
        "              [6, -4, -2, 1, 3]])\n",
        "```\n",
        "Use the sign function for the array $ A $. As a reminder, the function works as follows: returns -1 for negative values, zero for zero, and 1 for positive values.\n",
        "\n",
        "__Expected result:__\n",
        "\n",
        "```\n",
        "array([[-1,  1,  0,  1, -1],\n",
        "       [ 1, -1, -1,  1,  1]])\n",
        "```\n",
        "__Tip:__ Use the _np.sign()_ function."
      ]
    },
    {
      "cell_type": "code",
      "metadata": {
        "id": "B2kbHQy10ytn",
        "colab": {
          "base_uri": "https://localhost:8080/"
        },
        "outputId": "86e82f0d-7c08-47ed-c895-a74d02bd0277"
      },
      "source": [
        "# enter solution here\n",
        "A = np.array([[-4, 3, 0, 1, -5],\n",
        "              [6, -4, -2, 1, 3]])\n",
        "\n",
        "\n",
        "np.sign(A)"
      ],
      "execution_count": 18,
      "outputs": [
        {
          "output_type": "execute_result",
          "data": {
            "text/plain": [
              "array([[-1,  1,  0,  1, -1],\n",
              "       [ 1, -1, -1,  1,  1]])"
            ]
          },
          "metadata": {
            "tags": []
          },
          "execution_count": 18
        }
      ]
    },
    {
      "cell_type": "markdown",
      "metadata": {
        "id": "TXUd_4631-gw"
      },
      "source": [
        "### <a name='8'></a> Exercise 78\n",
        "Using the _np.arange()_ function, generate the following array:\n",
        "\n",
        "```\n",
        "array(['2021-01-01', '2021-01-02', '2021-01-03', '2021-01-04',\n",
        "       '2021-01-05', '2021-01-06', '2021-01-07', '2021-01-08',\n",
        "       '2021-01-09', '2021-01-10', '2021-01-11', '2021-01-12',\n",
        "       '2021-01-13', '2021-01-14', '2021-01-15', '2021-01-16',\n",
        "       '2021-01-17', '2021-01-18', '2021-01-19', '2021-01-20',\n",
        "       '2021-01-21', '2021-01-22', '2021-01-23', '2021-01-24',\n",
        "       '2021-01-25', '2021-01-26', '2021-01-27', '2021-01-28',\n",
        "       '2021-01-29', '2021-01-30', '2021-01-31'], dtype='datetime64[D]')\n",
        "```\n"
      ]
    },
    {
      "cell_type": "code",
      "metadata": {
        "id": "3yNQkyOG05JQ",
        "colab": {
          "base_uri": "https://localhost:8080/"
        },
        "outputId": "8d80bf25-7e89-4509-b16e-25229e2badac"
      },
      "source": [
        "# enter solution here\n",
        "np.arange('2021-01-01', '2021-02-01', dtype='datetime64[D]')"
      ],
      "execution_count": 19,
      "outputs": [
        {
          "output_type": "execute_result",
          "data": {
            "text/plain": [
              "array(['2021-01-01', '2021-01-02', '2021-01-03', '2021-01-04',\n",
              "       '2021-01-05', '2021-01-06', '2021-01-07', '2021-01-08',\n",
              "       '2021-01-09', '2021-01-10', '2021-01-11', '2021-01-12',\n",
              "       '2021-01-13', '2021-01-14', '2021-01-15', '2021-01-16',\n",
              "       '2021-01-17', '2021-01-18', '2021-01-19', '2021-01-20',\n",
              "       '2021-01-21', '2021-01-22', '2021-01-23', '2021-01-24',\n",
              "       '2021-01-25', '2021-01-26', '2021-01-27', '2021-01-28',\n",
              "       '2021-01-29', '2021-01-30', '2021-01-31'], dtype='datetime64[D]')"
            ]
          },
          "metadata": {
            "tags": []
          },
          "execution_count": 19
        }
      ]
    },
    {
      "cell_type": "markdown",
      "metadata": {
        "id": "tgI6xEn-2AQo"
      },
      "source": [
        "### <a name='9'></a> Exercise 79\n",
        "\n",
        "Using the _np.arange()_ function, generate the following array:\n",
        "\n",
        "```\n",
        "array([['2021-01', '2021-02', '2021-03'],\n",
        "       ['2021-04', '2021-05', '2021-06'],\n",
        "       ['2021-07', '2021-08', '2021-09'],\n",
        "       ['2021-10', '2021-11', '2021-12']], dtype='datetime64[M]')\n",
        "```\n"
      ]
    },
    {
      "cell_type": "code",
      "metadata": {
        "id": "3A5SIkof0-lq",
        "colab": {
          "base_uri": "https://localhost:8080/"
        },
        "outputId": "29111a62-c049-4901-e2d8-b13a8a6af05a"
      },
      "source": [
        "# enter solution here\n",
        "Z=np.arange('2021-01', '2022-01', dtype='datetime64[M]')\n",
        "Z.reshape(4,3)"
      ],
      "execution_count": 26,
      "outputs": [
        {
          "output_type": "execute_result",
          "data": {
            "text/plain": [
              "array([['2021-01', '2021-02', '2021-03'],\n",
              "       ['2021-04', '2021-05', '2021-06'],\n",
              "       ['2021-07', '2021-08', '2021-09'],\n",
              "       ['2021-10', '2021-11', '2021-12']], dtype='datetime64[M]')"
            ]
          },
          "metadata": {
            "tags": []
          },
          "execution_count": 26
        }
      ]
    },
    {
      "cell_type": "markdown",
      "metadata": {
        "id": "wxhpf-uq2B1I"
      },
      "source": [
        "### <a name='10'></a> Exercise 80\n",
        "Using the _np.datetime64()_ function, generate today's date (the date you were doing the exercise)."
      ]
    },
    {
      "cell_type": "code",
      "metadata": {
        "id": "YFc0KW6URsuc",
        "colab": {
          "base_uri": "https://localhost:8080/"
        },
        "outputId": "bf7ae9fd-b3d0-4c96-d3b9-3c07dbc69f75"
      },
      "source": [
        "# enter solution here\n",
        "np.datetime64('today')"
      ],
      "execution_count": 27,
      "outputs": [
        {
          "output_type": "execute_result",
          "data": {
            "text/plain": [
              "numpy.datetime64('2020-12-01')"
            ]
          },
          "metadata": {
            "tags": []
          },
          "execution_count": 27
        }
      ]
    }
  ]
}