{
  "nbformat": 4,
  "nbformat_minor": 0,
  "metadata": {
    "colab": {
      "name": "141-150_exercises.ipynb",
      "provenance": [],
      "collapsed_sections": [],
      "include_colab_link": true
    },
    "kernelspec": {
      "name": "python3",
      "display_name": "Python 3"
    }
  },
  "cells": [
    {
      "cell_type": "markdown",
      "metadata": {
        "id": "view-in-github",
        "colab_type": "text"
      },
      "source": [
        "<a href=\"https://colab.research.google.com/github/Olamyyde/test-colab/blob/master/141_150_exercises.ipynb\" target=\"_parent\"><img src=\"https://colab.research.google.com/assets/colab-badge.svg\" alt=\"Open In Colab\"/></a>"
      ]
    },
    {
      "cell_type": "markdown",
      "metadata": {
        "id": "WLEgCW5F1hho"
      },
      "source": [
        "## Pandas\n",
        "\n",
        "### Table of contents:\n",
        "* [Import biblioteki](#0)\n",
        "* [Exercise 141](#1)\n",
        "* [Exercise 142](#2)\n",
        "* [Exercise 143](#3)\n",
        "* [Exercise 144](#4)\n",
        "* [Exercise 145](#5)\n",
        "* [Exercise 146](#6)\n",
        "* [Exercise 147](#7)\n",
        "* [Exercise 148](#8)\n",
        "* [Exercise 149](#9)\n",
        "* [Exercise 150](#10)"
      ]
    },
    {
      "cell_type": "markdown",
      "metadata": {
        "id": "zeLOLmTj1kBM"
      },
      "source": [
        "### <a name='0'></a> Import of libraries"
      ]
    },
    {
      "cell_type": "code",
      "metadata": {
        "id": "HXMB7SMe1Wnz",
        "colab": {
          "base_uri": "https://localhost:8080/",
          "height": 35
        },
        "outputId": "d5c1333f-9468-4856-c44f-593c6fefbb20"
      },
      "source": [
        "import numpy as np\n",
        "import pandas as pd\n",
        "\n",
        "np.random.seed(42)\n",
        "np.__version__"
      ],
      "execution_count": 1,
      "outputs": [
        {
          "output_type": "execute_result",
          "data": {
            "application/vnd.google.colaboratory.intrinsic+json": {
              "type": "string"
            },
            "text/plain": [
              "'1.18.5'"
            ]
          },
          "metadata": {
            "tags": []
          },
          "execution_count": 1
        }
      ]
    },
    {
      "cell_type": "markdown",
      "metadata": {
        "id": "cyc70pMe1oCg"
      },
      "source": [
        "### <a name='1'></a> Exercise 141\n",
        "Two _Series_ objects are given:\n",
        "```\n",
        "s1 = pd.Series(np.random.rand(20))\n",
        "s2 = pd.Series(np.random.randn(20))\n",
        "```\n",
        "Combine these two objects into one _DataFrame_ object (as two columns) and assign to _df_. Name the columns _col1_ and _col2_ respectively.\n"
      ]
    },
    {
      "cell_type": "code",
      "metadata": {
        "id": "cTXwesscKvbT",
        "colab": {
          "base_uri": "https://localhost:8080/",
          "height": 622
        },
        "outputId": "33b6322b-7d57-4fc6-ed60-03276d39d46c"
      },
      "source": [
        "# enter solution here\n",
        "s1 = pd.Series(np.random.rand(20))\n",
        "s2 = pd.Series(np.random.randn(20))\n",
        "\n",
        "df = pd.concat([s1, s2], axis=1)\n",
        "df.columns = ['col1', 'col2']\n",
        "df"
      ],
      "execution_count": 5,
      "outputs": [
        {
          "output_type": "execute_result",
          "data": {
            "text/html": [
              "<div>\n",
              "<style scoped>\n",
              "    .dataframe tbody tr th:only-of-type {\n",
              "        vertical-align: middle;\n",
              "    }\n",
              "\n",
              "    .dataframe tbody tr th {\n",
              "        vertical-align: top;\n",
              "    }\n",
              "\n",
              "    .dataframe thead th {\n",
              "        text-align: right;\n",
              "    }\n",
              "</style>\n",
              "<table border=\"1\" class=\"dataframe\">\n",
              "  <thead>\n",
              "    <tr style=\"text-align: right;\">\n",
              "      <th></th>\n",
              "      <th>col1</th>\n",
              "      <th>col2</th>\n",
              "    </tr>\n",
              "  </thead>\n",
              "  <tbody>\n",
              "    <tr>\n",
              "      <th>0</th>\n",
              "      <td>0.518791</td>\n",
              "      <td>1.142823</td>\n",
              "    </tr>\n",
              "    <tr>\n",
              "      <th>1</th>\n",
              "      <td>0.703019</td>\n",
              "      <td>0.751933</td>\n",
              "    </tr>\n",
              "    <tr>\n",
              "      <th>2</th>\n",
              "      <td>0.363630</td>\n",
              "      <td>0.791032</td>\n",
              "    </tr>\n",
              "    <tr>\n",
              "      <th>3</th>\n",
              "      <td>0.971782</td>\n",
              "      <td>-0.909387</td>\n",
              "    </tr>\n",
              "    <tr>\n",
              "      <th>4</th>\n",
              "      <td>0.962447</td>\n",
              "      <td>1.402794</td>\n",
              "    </tr>\n",
              "    <tr>\n",
              "      <th>5</th>\n",
              "      <td>0.251782</td>\n",
              "      <td>-1.401851</td>\n",
              "    </tr>\n",
              "    <tr>\n",
              "      <th>6</th>\n",
              "      <td>0.497249</td>\n",
              "      <td>0.586857</td>\n",
              "    </tr>\n",
              "    <tr>\n",
              "      <th>7</th>\n",
              "      <td>0.300878</td>\n",
              "      <td>2.190456</td>\n",
              "    </tr>\n",
              "    <tr>\n",
              "      <th>8</th>\n",
              "      <td>0.284840</td>\n",
              "      <td>-0.990536</td>\n",
              "    </tr>\n",
              "    <tr>\n",
              "      <th>9</th>\n",
              "      <td>0.036887</td>\n",
              "      <td>-0.566298</td>\n",
              "    </tr>\n",
              "    <tr>\n",
              "      <th>10</th>\n",
              "      <td>0.609564</td>\n",
              "      <td>0.099651</td>\n",
              "    </tr>\n",
              "    <tr>\n",
              "      <th>11</th>\n",
              "      <td>0.502679</td>\n",
              "      <td>-0.503476</td>\n",
              "    </tr>\n",
              "    <tr>\n",
              "      <th>12</th>\n",
              "      <td>0.051479</td>\n",
              "      <td>-1.550663</td>\n",
              "    </tr>\n",
              "    <tr>\n",
              "      <th>13</th>\n",
              "      <td>0.278646</td>\n",
              "      <td>0.068563</td>\n",
              "    </tr>\n",
              "    <tr>\n",
              "      <th>14</th>\n",
              "      <td>0.908266</td>\n",
              "      <td>-1.062304</td>\n",
              "    </tr>\n",
              "    <tr>\n",
              "      <th>15</th>\n",
              "      <td>0.239562</td>\n",
              "      <td>0.473592</td>\n",
              "    </tr>\n",
              "    <tr>\n",
              "      <th>16</th>\n",
              "      <td>0.144895</td>\n",
              "      <td>-0.919424</td>\n",
              "    </tr>\n",
              "    <tr>\n",
              "      <th>17</th>\n",
              "      <td>0.489453</td>\n",
              "      <td>1.549934</td>\n",
              "    </tr>\n",
              "    <tr>\n",
              "      <th>18</th>\n",
              "      <td>0.985650</td>\n",
              "      <td>-0.783253</td>\n",
              "    </tr>\n",
              "    <tr>\n",
              "      <th>19</th>\n",
              "      <td>0.242055</td>\n",
              "      <td>-0.322062</td>\n",
              "    </tr>\n",
              "  </tbody>\n",
              "</table>\n",
              "</div>"
            ],
            "text/plain": [
              "        col1      col2\n",
              "0   0.518791  1.142823\n",
              "1   0.703019  0.751933\n",
              "2   0.363630  0.791032\n",
              "3   0.971782 -0.909387\n",
              "4   0.962447  1.402794\n",
              "5   0.251782 -1.401851\n",
              "6   0.497249  0.586857\n",
              "7   0.300878  2.190456\n",
              "8   0.284840 -0.990536\n",
              "9   0.036887 -0.566298\n",
              "10  0.609564  0.099651\n",
              "11  0.502679 -0.503476\n",
              "12  0.051479 -1.550663\n",
              "13  0.278646  0.068563\n",
              "14  0.908266 -1.062304\n",
              "15  0.239562  0.473592\n",
              "16  0.144895 -0.919424\n",
              "17  0.489453  1.549934\n",
              "18  0.985650 -0.783253\n",
              "19  0.242055 -0.322062"
            ]
          },
          "metadata": {
            "tags": []
          },
          "execution_count": 5
        }
      ]
    },
    {
      "cell_type": "markdown",
      "metadata": {
        "id": "J9pY1rtr1sC0"
      },
      "source": [
        "### <a name='2'></a> Exercise 142\n",
        "Extract rows from the _df_ object for which the value in the _col2_ column is between 0.0 and 1.0 (inclusive)."
      ]
    },
    {
      "cell_type": "code",
      "metadata": {
        "id": "IZyMpV1BLDMy",
        "colab": {
          "base_uri": "https://localhost:8080/",
          "height": 220
        },
        "outputId": "4ca1f890-8907-47d2-c5c0-a3a15debb3d4"
      },
      "source": [
        "# enter solution here\n",
        "df[df['col2'].between(0.0, 1.0)]"
      ],
      "execution_count": 6,
      "outputs": [
        {
          "output_type": "execute_result",
          "data": {
            "text/html": [
              "<div>\n",
              "<style scoped>\n",
              "    .dataframe tbody tr th:only-of-type {\n",
              "        vertical-align: middle;\n",
              "    }\n",
              "\n",
              "    .dataframe tbody tr th {\n",
              "        vertical-align: top;\n",
              "    }\n",
              "\n",
              "    .dataframe thead th {\n",
              "        text-align: right;\n",
              "    }\n",
              "</style>\n",
              "<table border=\"1\" class=\"dataframe\">\n",
              "  <thead>\n",
              "    <tr style=\"text-align: right;\">\n",
              "      <th></th>\n",
              "      <th>col1</th>\n",
              "      <th>col2</th>\n",
              "    </tr>\n",
              "  </thead>\n",
              "  <tbody>\n",
              "    <tr>\n",
              "      <th>1</th>\n",
              "      <td>0.703019</td>\n",
              "      <td>0.751933</td>\n",
              "    </tr>\n",
              "    <tr>\n",
              "      <th>2</th>\n",
              "      <td>0.363630</td>\n",
              "      <td>0.791032</td>\n",
              "    </tr>\n",
              "    <tr>\n",
              "      <th>6</th>\n",
              "      <td>0.497249</td>\n",
              "      <td>0.586857</td>\n",
              "    </tr>\n",
              "    <tr>\n",
              "      <th>10</th>\n",
              "      <td>0.609564</td>\n",
              "      <td>0.099651</td>\n",
              "    </tr>\n",
              "    <tr>\n",
              "      <th>13</th>\n",
              "      <td>0.278646</td>\n",
              "      <td>0.068563</td>\n",
              "    </tr>\n",
              "    <tr>\n",
              "      <th>15</th>\n",
              "      <td>0.239562</td>\n",
              "      <td>0.473592</td>\n",
              "    </tr>\n",
              "  </tbody>\n",
              "</table>\n",
              "</div>"
            ],
            "text/plain": [
              "        col1      col2\n",
              "1   0.703019  0.751933\n",
              "2   0.363630  0.791032\n",
              "6   0.497249  0.586857\n",
              "10  0.609564  0.099651\n",
              "13  0.278646  0.068563\n",
              "15  0.239562  0.473592"
            ]
          },
          "metadata": {
            "tags": []
          },
          "execution_count": 6
        }
      ]
    },
    {
      "cell_type": "markdown",
      "metadata": {
        "id": "XQLYT2m11wVG"
      },
      "source": [
        "### <a name='3'></a> Exercise 143\n",
        "Assign a new column named _col3_, which will have a value of 1 when the value in the column _col2_ is non-negative and -1 opposite.\n"
      ]
    },
    {
      "cell_type": "code",
      "metadata": {
        "id": "EiWduM4lLsDu"
      },
      "source": [
        "# enter solution here"
      ],
      "execution_count": null,
      "outputs": []
    },
    {
      "cell_type": "markdown",
      "metadata": {
        "id": "4xTKSUzg10MK"
      },
      "source": [
        "### <a name='4'></a> Exercise 144\n",
        "\n",
        "Assign a new column _col4_, which will truncate the values from the column _col2_ to the range $ [- 1.0, 1.0] $.\n",
        "In other words, for values below -1.0, leave -1.0, for values above 1.0, leave 1.0."
      ]
    },
    {
      "cell_type": "code",
      "metadata": {
        "id": "DiceFKqwMFJR"
      },
      "source": [
        "# enter solution here"
      ],
      "execution_count": null,
      "outputs": []
    },
    {
      "cell_type": "markdown",
      "metadata": {
        "id": "o3HKIKlP15Ro"
      },
      "source": [
        "### <a name='5'></a> Exercise 145\n",
        "Find the top 5 values for the _col2_ column."
      ]
    },
    {
      "cell_type": "code",
      "metadata": {
        "id": "HSIZpRipMMZf"
      },
      "source": [
        "# enter solution here"
      ],
      "execution_count": null,
      "outputs": []
    },
    {
      "cell_type": "markdown",
      "metadata": {
        "id": "hkvMol9vMOeN"
      },
      "source": [
        "Find the 5 lowest values for the _col2_ column."
      ]
    },
    {
      "cell_type": "code",
      "metadata": {
        "id": "K0_x-HZuMPgz"
      },
      "source": [
        "# enter solution here"
      ],
      "execution_count": null,
      "outputs": []
    },
    {
      "cell_type": "markdown",
      "metadata": {
        "id": "PunXd_Ey16so"
      },
      "source": [
        "### <a name='6'></a> Exercise 146\n",
        "Calculate the cumulative sum for each column.\n",
        "\n",
        "__Tip:__ Use the _pd.DataFrame.cumsum()_ method."
      ]
    },
    {
      "cell_type": "code",
      "metadata": {
        "id": "bG8X8s6TMV60"
      },
      "source": [
        "# enter solution here"
      ],
      "execution_count": null,
      "outputs": []
    },
    {
      "cell_type": "markdown",
      "metadata": {
        "id": "hOhqDRz618Tx"
      },
      "source": [
        "### <a name='7'></a> Exercise 147\n",
        "Calculate the median for the _col2_ variable (or 0.5 quantile)."
      ]
    },
    {
      "cell_type": "code",
      "metadata": {
        "id": "8PlzscsNMeCR"
      },
      "source": [
        "# enter solution here"
      ],
      "execution_count": null,
      "outputs": []
    },
    {
      "cell_type": "markdown",
      "metadata": {
        "id": "TXUd_4631-gw"
      },
      "source": [
        "### <a name='8'></a> Exercise 148\n",
        "Extract rows for which the variable _col2_ takes values greater than 0.0."
      ]
    },
    {
      "cell_type": "code",
      "metadata": {
        "id": "WM8lMUHqMrL1"
      },
      "source": [
        "# enter solution here"
      ],
      "execution_count": null,
      "outputs": []
    },
    {
      "cell_type": "markdown",
      "metadata": {
        "id": "tgI6xEn-2AQo"
      },
      "source": [
        "### <a name='9'></a> Exercise 149\n",
        "Extract first 5 rows of the _df_ object and convert it to a dictionary."
      ]
    },
    {
      "cell_type": "code",
      "metadata": {
        "id": "mYQM-G2dM2qT"
      },
      "source": [
        "# enter solution here"
      ],
      "execution_count": null,
      "outputs": []
    },
    {
      "cell_type": "markdown",
      "metadata": {
        "id": "wxhpf-uq2B1I"
      },
      "source": [
        "### <a name='10'></a> Exercise 150\n",
        "Extract the first 5 rows of the _df_ object, convert it to Markdown format, and assign it to the _df_markdown_ variable."
      ]
    },
    {
      "cell_type": "code",
      "metadata": {
        "id": "YFc0KW6URsuc"
      },
      "source": [
        "# enter solution here"
      ],
      "execution_count": null,
      "outputs": []
    },
    {
      "cell_type": "markdown",
      "metadata": {
        "id": "Ut7kCacoNAbG"
      },
      "source": [
        "Print the contents of the _df_markdown_ variable to the console."
      ]
    },
    {
      "cell_type": "code",
      "metadata": {
        "id": "sqvxfffdM-kp"
      },
      "source": [
        "# enter solution here"
      ],
      "execution_count": null,
      "outputs": []
    },
    {
      "cell_type": "markdown",
      "metadata": {
        "id": "qflSnEk_NDy5"
      },
      "source": [
        "Copy the result of running the above cell and paste below:\n",
        "\n",
        "|    |     col1 |      col2 |   col3 |      col4 |\n",
        "|---:|---------:|----------:|-------:|----------:|\n",
        "|  0 | 0.292145 |  0.822545 |      1 |  0.822545 |\n",
        "|  1 | 0.366362 | -1.22084  |     -1 | -1        |\n",
        "|  2 | 0.45607  |  0.208864 |      1 |  0.208864 |\n",
        "|  3 | 0.785176 | -1.95967  |     -1 | -1        |\n",
        "|  4 | 0.199674 | -1.32819  |     -1 | -1        |\n"
      ]
    }
  ]
}