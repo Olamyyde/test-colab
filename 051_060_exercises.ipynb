{
  "nbformat": 4,
  "nbformat_minor": 0,
  "metadata": {
    "colab": {
      "name": "051-060_exercises.ipynb",
      "provenance": [],
      "collapsed_sections": [],
      "include_colab_link": true
    },
    "kernelspec": {
      "name": "python3",
      "display_name": "Python 3"
    }
  },
  "cells": [
    {
      "cell_type": "markdown",
      "metadata": {
        "id": "view-in-github",
        "colab_type": "text"
      },
      "source": [
        "<a href=\"https://colab.research.google.com/github/Olamyyde/test-colab/blob/master/051_060_exercises.ipynb\" target=\"_parent\"><img src=\"https://colab.research.google.com/assets/colab-badge.svg\" alt=\"Open In Colab\"/></a>"
      ]
    },
    {
      "cell_type": "markdown",
      "metadata": {
        "id": "WLEgCW5F1hho"
      },
      "source": [
        "## Numpy\n",
        "\n",
        "### Table of contents:\n",
        "* [Import biblioteki](#0)\n",
        "* [Exercise 51](#1)\n",
        "* [Exercise 52](#2)\n",
        "* [Exercise 53](#3)\n",
        "* [Exercise 54](#4)\n",
        "* [Exercise 55](#5)\n",
        "* [Exercise 56](#6)\n",
        "* [Exercise 57](#7)\n",
        "* [Exercise 58](#8)\n",
        "* [Exercise 59](#9)\n",
        "* [Exercise 60](#10)"
      ]
    },
    {
      "cell_type": "markdown",
      "metadata": {
        "id": "zeLOLmTj1kBM"
      },
      "source": [
        "### <a name='0'></a> Import of libraries"
      ]
    },
    {
      "cell_type": "code",
      "metadata": {
        "id": "HXMB7SMe1Wnz",
        "colab": {
          "base_uri": "https://localhost:8080/",
          "height": 35
        },
        "outputId": "b009f1f6-5fa8-4e33-efec-1a8969248635"
      },
      "source": [
        "import numpy as np\n",
        "\n",
        "np.__version__"
      ],
      "execution_count": 1,
      "outputs": [
        {
          "output_type": "execute_result",
          "data": {
            "application/vnd.google.colaboratory.intrinsic+json": {
              "type": "string"
            },
            "text/plain": [
              "'1.18.5'"
            ]
          },
          "metadata": {
            "tags": []
          },
          "execution_count": 1
        }
      ]
    },
    {
      "cell_type": "markdown",
      "metadata": {
        "id": "cyc70pMe1oCg"
      },
      "source": [
        "### <a name='1'></a> Exercise 51\n",
        "Two arrays $ A $ and $ B $ are given below:\n",
        "\n",
        "```\n",
        "A = np.array([[3, 4, 5],\n",
        "              [8, 3, 1]])\n",
        "B = np.array([[0, 5, 2],\n",
        "              [4, 2, 1]])\n",
        "```\n",
        "* Concatenate these arrays as follows:\n",
        "\n",
        "```\n",
        "array([[3, 4, 5],\n",
        "       [8, 3, 1],\n",
        "       [0, 5, 2],\n",
        "       [4, 2, 1]])\n",
        "```\n",
        "\n",
        "__Tip:__ Use the _np.concatenate()_ function."
      ]
    },
    {
      "cell_type": "code",
      "metadata": {
        "id": "1TBr72MOEZ1z"
      },
      "source": [
        "np.concatenate?"
      ],
      "execution_count": 10,
      "outputs": []
    },
    {
      "cell_type": "code",
      "metadata": {
        "id": "5MXU6p-oTHHs",
        "colab": {
          "base_uri": "https://localhost:8080/"
        },
        "outputId": "aae9bc96-3bbf-45af-bd4a-9f02dd76dce3"
      },
      "source": [
        "# enter solution here\n",
        "A = np.array([[3, 4, 5],\n",
        "              [8, 3, 1]])\n",
        "B = np.array([[0, 5, 2],\n",
        "              [4, 2, 1]])\n",
        "\n",
        "np.concatenate((A, B), axis=0)"
      ],
      "execution_count": 3,
      "outputs": [
        {
          "output_type": "execute_result",
          "data": {
            "text/plain": [
              "array([[3, 4, 5],\n",
              "       [8, 3, 1],\n",
              "       [0, 5, 2],\n",
              "       [4, 2, 1]])"
            ]
          },
          "metadata": {
            "tags": []
          },
          "execution_count": 3
        }
      ]
    },
    {
      "cell_type": "markdown",
      "metadata": {
        "id": "G1YmiO8PTO3g"
      },
      "source": [
        "* Concatenate these arrays as follows:\n",
        "\n",
        "```\n",
        "array([[3, 4, 5, 0, 5, 2],\n",
        "       [8, 3, 1, 4, 2, 1]])\n",
        "```\n",
        "__Tip:__ Use the _np.concatenate()_ function."
      ]
    },
    {
      "cell_type": "code",
      "metadata": {
        "id": "0cnB_nezTTxN",
        "colab": {
          "base_uri": "https://localhost:8080/"
        },
        "outputId": "d2a97398-0e72-4ac1-c783-673354b0cf39"
      },
      "source": [
        "# enter solution here\n",
        "np.concatenate((A, B), axis=1)"
      ],
      "execution_count": 4,
      "outputs": [
        {
          "output_type": "execute_result",
          "data": {
            "text/plain": [
              "array([[3, 4, 5, 0, 5, 2],\n",
              "       [8, 3, 1, 4, 2, 1]])"
            ]
          },
          "metadata": {
            "tags": []
          },
          "execution_count": 4
        }
      ]
    },
    {
      "cell_type": "markdown",
      "metadata": {
        "id": "J9pY1rtr1sC0"
      },
      "source": [
        "### <a name='2'></a> Exercise 52\n",
        "The first array is given containing the data (_data_) and the second array containing the target class (_target_) for the given row:\n",
        "\n",
        "```\n",
        "data = np.array([[4.3, 4.2],\n",
        "                 [3.1, 3.6]])\n",
        "target = np.array([[0],\n",
        "                   [1]])\n",
        "```"
      ]
    },
    {
      "cell_type": "markdown",
      "metadata": {
        "id": "ymdZWtG_TnS8"
      },
      "source": [
        "Concatenate these arrays into one as shown below:\n",
        "\n",
        "```\n",
        "array([[4.3, 4.2, 0. ],\n",
        "       [3.1, 3.6, 1. ]])\n",
        "```"
      ]
    },
    {
      "cell_type": "code",
      "metadata": {
        "id": "yjMRep8ATq4C",
        "colab": {
          "base_uri": "https://localhost:8080/"
        },
        "outputId": "c2cfb6ea-a3bc-425e-ca77-a156ff8024d2"
      },
      "source": [
        "# enter solution here\n",
        "data = np.array([[4.3, 4.2],\n",
        "                 [3.1, 3.6]])\n",
        "target = np.array([[0],\n",
        "                   [1]])\n",
        "\n",
        "np.concatenate((data, target), axis=1)"
      ],
      "execution_count": 6,
      "outputs": [
        {
          "output_type": "execute_result",
          "data": {
            "text/plain": [
              "array([[4.3, 4.2, 0. ],\n",
              "       [3.1, 3.6, 1. ]])"
            ]
          },
          "metadata": {
            "tags": []
          },
          "execution_count": 6
        }
      ]
    },
    {
      "cell_type": "markdown",
      "metadata": {
        "id": "XQLYT2m11wVG"
      },
      "source": [
        "### <a name='3'></a> Exercise 53\n",
        "The following three one-dimensional arrays are given:\n",
        "```\n",
        "feature1 = np.array([1.6, 0.9, 2.2])\n",
        "feature2 = np.array([0.4, 1.3, 3.2])\n",
        "feature3 = np.array([1.4, 0.3, 1.2])\n",
        "```\n",
        "Transform each of these arrays into a column and concatenate them into one large array.\n",
        "\n",
        "__Expected result:__\n",
        "```\n",
        "array([[1.6, 0.4, 1.4],\n",
        "       [0.9, 1.3, 0.3],\n",
        "       [2.2, 3.2, 1.2]])\n",
        "```\n",
        "__Tip:__ Use the function _np.column_stack()_.\n"
      ]
    },
    {
      "cell_type": "code",
      "metadata": {
        "id": "F83u7wvHT7au",
        "colab": {
          "base_uri": "https://localhost:8080/"
        },
        "outputId": "d8b187c9-320b-46f1-d8f2-977eb81b082a"
      },
      "source": [
        "# enter solution here\n",
        "feature1 = np.array([1.6, 0.9, 2.2])\n",
        "feature2 = np.array([0.4, 1.3, 3.2])\n",
        "feature3 = np.array([1.4, 0.3, 1.2])\n",
        "\n",
        "np.column_stack((feature1,feature2,feature3))"
      ],
      "execution_count": 8,
      "outputs": [
        {
          "output_type": "execute_result",
          "data": {
            "text/plain": [
              "array([[1.6, 0.4, 1.4],\n",
              "       [0.9, 1.3, 0.3],\n",
              "       [2.2, 3.2, 1.2]])"
            ]
          },
          "metadata": {
            "tags": []
          },
          "execution_count": 8
        }
      ]
    },
    {
      "cell_type": "markdown",
      "metadata": {
        "id": "4xTKSUzg10MK"
      },
      "source": [
        "### <a name='4'></a> Exercise 54\n",
        "The following two-dimensional array is given:\n",
        "```\n",
        "A = np.random.randint(low=0, high=7, size=(5, 8))\n",
        "A[:, :2] = 0\n",
        "A[:, -2:] = 1\n",
        "A\n",
        "```\n",
        "```\n",
        "array([[0, 0, 4, 6, 2, 4, 1, 1],\n",
        "       [0, 0, 6, 2, 2, 4, 1, 1],\n",
        "       [0, 0, 1, 3, 5, 5, 1, 1],\n",
        "       [0, 0, 3, 1, 5, 4, 1, 1],\n",
        "       [0, 0, 2, 6, 1, 3, 1, 1]])\n",
        "```\n",
        "Split an array into three parts so that the first two columns formed the first array $ A1 $, four consecutive second array $ A2 $ and the last two third array $ A3 $.\n",
        "\n",
        "__Tip:__ Use the function _np.split()_."
      ]
    },
    {
      "cell_type": "code",
      "metadata": {
        "id": "zXtgBT1sUZjf",
        "colab": {
          "base_uri": "https://localhost:8080/"
        },
        "outputId": "f3d08e5e-e562-4ea6-f8e7-b59981a2b02b"
      },
      "source": [
        "# enter solution here\n",
        "A = np.random.randint(low=0, high=7, size=(5, 8))\n",
        "A[:, :2] = 0\n",
        "A[:, -2:] = 1\n",
        "\n",
        "A1, A2, A3 = np.split(A, [2,6], axis=1)\n",
        "print(A1)\n",
        "print(A2)\n",
        "print(A3)\n",
        "\n"
      ],
      "execution_count": 16,
      "outputs": [
        {
          "output_type": "stream",
          "text": [
            "[[0 0]\n",
            " [0 0]\n",
            " [0 0]\n",
            " [0 0]\n",
            " [0 0]]\n",
            "[[2 4 1 2]\n",
            " [2 1 2 1]\n",
            " [2 0 2 5]\n",
            " [0 6 4 1]\n",
            " [0 5 3 3]]\n",
            "[[1 1]\n",
            " [1 1]\n",
            " [1 1]\n",
            " [1 1]\n",
            " [1 1]]\n"
          ],
          "name": "stdout"
        }
      ]
    },
    {
      "cell_type": "markdown",
      "metadata": {
        "id": "o3HKIKlP15Ro"
      },
      "source": [
        "### <a name='5'></a> Exercise 55\n",
        "The following numpy array $ A $ is given:\n",
        "\n",
        "```\n",
        "A = np.random.randint(low=0, high=2, size=(10, 6))\n",
        "```\n",
        "\n",
        "Calculate the total number of non-zero elements for this array.\n",
        "\n",
        "__Tip:__ Use the function _np.count_nonzero()_.\n"
      ]
    },
    {
      "cell_type": "code",
      "metadata": {
        "id": "cPCsc8WHU32T",
        "colab": {
          "base_uri": "https://localhost:8080/"
        },
        "outputId": "d7680dc7-0d7f-46ab-fd45-abc7388af919"
      },
      "source": [
        "# enter solution here\n",
        "A = np.random.randint(low=0, high=2, size=(10, 6))\n",
        "np.count_nonzero(A)"
      ],
      "execution_count": 18,
      "outputs": [
        {
          "output_type": "execute_result",
          "data": {
            "text/plain": [
              "32"
            ]
          },
          "metadata": {
            "tags": []
          },
          "execution_count": 18
        }
      ]
    },
    {
      "cell_type": "markdown",
      "metadata": {
        "id": "gYdn5cJqU9vh"
      },
      "source": [
        "Calculate the total number of non-zero elements for each row in this array.\n",
        "\n",
        "__Tip:__ Use the function _np.count_nonzero()_."
      ]
    },
    {
      "cell_type": "code",
      "metadata": {
        "id": "RXEd8gyGVBgC",
        "colab": {
          "base_uri": "https://localhost:8080/"
        },
        "outputId": "2d254dfd-12f4-4ec6-d328-4c26392824e0"
      },
      "source": [
        "# enter solution here\n",
        "np.count_nonzero(A, axis=1)"
      ],
      "execution_count": 20,
      "outputs": [
        {
          "output_type": "execute_result",
          "data": {
            "text/plain": [
              "array([4, 5, 6, 2, 3, 1, 3, 2, 2, 4])"
            ]
          },
          "metadata": {
            "tags": []
          },
          "execution_count": 20
        }
      ]
    },
    {
      "cell_type": "markdown",
      "metadata": {
        "id": "PunXd_Ey16so"
      },
      "source": [
        "### <a name='6'></a> Exercise 56\n",
        "An example numpy array $ A $ is given below:\n",
        "\n",
        "```\n",
        "A = np.random.randn(10, 4)\n",
        "```\n",
        "\n",
        "```\n",
        "array([[-0.53441645, -1.49505387, -0.78925833,  0.74371128],\n",
        "       [-0.21216142, -0.42686879,  0.50144833,  1.15818665],\n",
        "       [ 0.25711687,  0.3145129 ,  1.37186213,  0.17555329],\n",
        "       [-0.30928855,  0.6731255 , -0.25663018, -0.36782572],\n",
        "       [ 1.27373362, -0.29195267, -2.65517605,  0.34551794],\n",
        "       [-0.39551645, -0.28913686,  0.45293633, -0.16606091],\n",
        "       [ 0.21493883, -2.02231493, -0.94305681,  1.40395874],\n",
        "       [-0.0185508 , -1.67350462, -1.07253183, -0.99258618],\n",
        "       [ 0.10234768, -0.43260928, -0.6591823 ,  0.0039373 ],\n",
        "       [ 0.4777541 , -0.25902864, -0.57470921, -0.42149822]])\n",
        "```\n",
        "\n",
        "Set the numpy library option to print arrays with specified precision. Set its value to 4 and print the $ A $ array."
      ]
    },
    {
      "cell_type": "code",
      "metadata": {
        "id": "lzoi6hKSVMNf",
        "colab": {
          "base_uri": "https://localhost:8080/"
        },
        "outputId": "492ddb4f-0ff9-4522-94bd-0c9f2165d39e"
      },
      "source": [
        "# enter solution here\n",
        "A = np.random.randn(10, 4)\n",
        "\n",
        "np.set_printoptions(precision=4)\n",
        "A"
      ],
      "execution_count": 24,
      "outputs": [
        {
          "output_type": "execute_result",
          "data": {
            "text/plain": [
              "array([[-0.3408,  0.0712, -1.5934, -0.3961],\n",
              "       [-1.0331, -0.4296,  0.113 ,  0.7724],\n",
              "       [-0.9177, -0.1259, -0.9416, -1.1643],\n",
              "       [-1.0539,  0.69  , -0.2474, -1.1323],\n",
              "       [ 1.3721, -1.2632,  1.173 , -0.6647],\n",
              "       [ 0.6198, -0.322 , -0.8006, -0.4681],\n",
              "       [-0.7205,  0.4334, -0.0085, -0.0776],\n",
              "       [ 1.6371,  2.6155,  0.4219,  2.7172],\n",
              "       [-0.1729,  0.5201, -1.2819, -0.5634],\n",
              "       [-0.028 , -2.1517, -1.414 ,  0.1656]])"
            ]
          },
          "metadata": {
            "tags": []
          },
          "execution_count": 24
        }
      ]
    },
    {
      "cell_type": "markdown",
      "metadata": {
        "id": "hOhqDRz618Tx"
      },
      "source": [
        "### <a name='7'></a> Exercise 57\n",
        "\n",
        "The following numpy array $ A $ is given:\n",
        "\n",
        "```\n",
        "A = np.array([1.2e-6, 1.7e-7])\n",
        "```\n",
        "Set the precision value to 8. Then set the appropriate numpy library option to suppress mathematical notation. Print the array $ A $.\n",
        "\n",
        "__Expected result:__\n",
        "```\n",
        "array([0.0000012 , 0.00000017])\n",
        "```\n"
      ]
    },
    {
      "cell_type": "code",
      "metadata": {
        "id": "QnUM5k9rVYdu",
        "colab": {
          "base_uri": "https://localhost:8080/"
        },
        "outputId": "db8da2a6-fbc7-4b67-85b0-20a1ddac3836"
      },
      "source": [
        "# enter solution here\n",
        "A = np.array([1.2e-6, 1.7e-7])\n",
        "\n",
        "np.set_printoptions(suppress=True, precision=8)\n",
        "A"
      ],
      "execution_count": 27,
      "outputs": [
        {
          "output_type": "execute_result",
          "data": {
            "text/plain": [
              "array([0.0000012 , 0.00000017])"
            ]
          },
          "metadata": {
            "tags": []
          },
          "execution_count": 27
        }
      ]
    },
    {
      "cell_type": "markdown",
      "metadata": {
        "id": "TXUd_4631-gw"
      },
      "source": [
        "### <a name='8'></a> Exercise 58\n",
        "The following numpy array $ A $ is given:\n",
        "```\n",
        "A = np.random.randn(8, 4)\n",
        "```\n",
        "Remove the third column from the $ A $ array.\n",
        "\n",
        "__Expected result:__\n",
        "```\n",
        "array([[-0.55692881, -0.66003196,  0.70856031],\n",
        "       [ 0.22378737, -0.19796576, -0.16889332],\n",
        "       [ 0.26062786,  0.29865445, -0.92259267],\n",
        "       [-2.40317659,  1.79961876, -1.96495796],\n",
        "       [ 0.13051561, -1.7085185 ,  0.54885043],\n",
        "       [ 1.77268727,  0.38751181, -0.05141955],\n",
        "       [-1.80858596, -0.45075211,  0.15332866],\n",
        "       [ 1.94218961, -1.93679529, -1.83350954]])\n",
        "```\n",
        "__Tip:__ Use the _np.delete()_ function.\n"
      ]
    },
    {
      "cell_type": "code",
      "metadata": {
        "id": "B7og-S7tVru7",
        "colab": {
          "base_uri": "https://localhost:8080/"
        },
        "outputId": "8e56109e-9183-44d3-9ba9-8a10d319d52c"
      },
      "source": [
        "# enter solution here\n",
        "A = np.random.randn(8, 4)\n",
        "\n",
        "np.delete(A, [2], axis=1 )"
      ],
      "execution_count": 29,
      "outputs": [
        {
          "output_type": "execute_result",
          "data": {
            "text/plain": [
              "array([[-0.57614254, -0.4314463 , -0.22464862],\n",
              "       [ 0.81656477,  0.30873686, -1.17627276],\n",
              "       [-1.72631748,  0.04843699, -0.7889887 ],\n",
              "       [ 0.9167841 ,  1.11627464, -2.0239267 ],\n",
              "       [ 1.17526038,  0.2831823 ,  1.52378509],\n",
              "       [ 1.50045068, -0.6302375 ,  2.03853976],\n",
              "       [-0.11359964,  0.0604407 , -0.66110771],\n",
              "       [-1.11140403, -1.02627358,  0.79002786]])"
            ]
          },
          "metadata": {
            "tags": []
          },
          "execution_count": 29
        }
      ]
    },
    {
      "cell_type": "markdown",
      "metadata": {
        "id": "tgI6xEn-2AQo"
      },
      "source": [
        "### <a name='9'></a> Exercise 59\n",
        "\n",
        "A one-dimensional array $ v $ (vector) is given:\n",
        "\n",
        "```\n",
        "v = np.array([3, 4, -2])\n",
        "```\n",
        "Calculate the norm of the vetor $ v $.\n"
      ]
    },
    {
      "cell_type": "code",
      "metadata": {
        "id": "A-FzLuaOV2Ck",
        "colab": {
          "base_uri": "https://localhost:8080/"
        },
        "outputId": "c6d99898-2a80-4b09-da86-0ff6d5a6eda7"
      },
      "source": [
        "# enter solution here\n",
        "v = np.array([3, 4, -2])\n",
        "\n",
        "np.linalg.norm(v)"
      ],
      "execution_count": 30,
      "outputs": [
        {
          "output_type": "execute_result",
          "data": {
            "text/plain": [
              "5.385164807134504"
            ]
          },
          "metadata": {
            "tags": []
          },
          "execution_count": 30
        }
      ]
    },
    {
      "cell_type": "markdown",
      "metadata": {
        "id": "wxhpf-uq2B1I"
      },
      "source": [
        "### <a name='10'></a> Exercise 60\n",
        "An example $ A $ array is given below:\n",
        "\n",
        "```\n",
        "A = np.random.randint(10, size=(100, 30))\n",
        "```\n",
        "Set the numpy library option to print 10 edge elements. Print the array $ A $.\n"
      ]
    },
    {
      "cell_type": "code",
      "metadata": {
        "id": "YFc0KW6URsuc",
        "colab": {
          "base_uri": "https://localhost:8080/"
        },
        "outputId": "a7d44bbc-3cf3-4f2b-da0d-785c950c0250"
      },
      "source": [
        "# enter solution here\n",
        "A = np.random.randint(10, size=(100, 30))\n",
        "\n",
        "np.set_printoptions(edgeitems=10)\n",
        "A"
      ],
      "execution_count": 31,
      "outputs": [
        {
          "output_type": "execute_result",
          "data": {
            "text/plain": [
              "array([[0, 7, 4, 5, 7, 0, 3, 9, 2, 6, ..., 9, 3, 0, 9, 7, 3, 0, 5, 2, 1],\n",
              "       [9, 4, 8, 1, 8, 1, 2, 6, 3, 7, ..., 6, 8, 3, 7, 2, 0, 0, 9, 4, 5],\n",
              "       [5, 8, 4, 6, 7, 5, 5, 1, 9, 1, ..., 0, 1, 0, 6, 8, 1, 7, 7, 0, 5],\n",
              "       [7, 6, 5, 0, 4, 5, 9, 1, 9, 4, ..., 8, 0, 0, 9, 4, 5, 0, 1, 0, 6],\n",
              "       [8, 1, 7, 4, 4, 6, 1, 0, 2, 7, ..., 8, 7, 5, 5, 5, 0, 0, 4, 0, 8],\n",
              "       [0, 8, 6, 6, 2, 0, 3, 3, 5, 8, ..., 4, 9, 4, 0, 2, 9, 0, 8, 3, 9],\n",
              "       [5, 3, 0, 6, 9, 0, 2, 0, 6, 8, ..., 6, 4, 3, 5, 8, 8, 2, 7, 9, 7],\n",
              "       [7, 8, 7, 4, 4, 5, 5, 8, 7, 2, ..., 2, 0, 5, 4, 0, 9, 5, 6, 0, 0],\n",
              "       [8, 8, 2, 1, 2, 1, 7, 9, 9, 4, ..., 9, 9, 2, 8, 0, 7, 7, 1, 2, 4],\n",
              "       [1, 2, 4, 5, 7, 3, 4, 4, 4, 6, ..., 2, 1, 0, 8, 5, 9, 5, 1, 4, 2],\n",
              "       ...,\n",
              "       [3, 9, 2, 4, 5, 4, 9, 9, 7, 9, ..., 2, 7, 9, 9, 5, 7, 3, 8, 2, 4],\n",
              "       [9, 9, 8, 5, 2, 3, 7, 5, 0, 9, ..., 4, 7, 7, 8, 3, 6, 5, 3, 2, 4],\n",
              "       [1, 7, 4, 3, 2, 8, 8, 9, 7, 6, ..., 0, 3, 2, 0, 1, 6, 0, 6, 3, 7],\n",
              "       [6, 9, 4, 0, 0, 9, 7, 6, 8, 0, ..., 6, 7, 1, 2, 0, 4, 8, 2, 4, 4],\n",
              "       [3, 3, 9, 5, 2, 5, 7, 5, 4, 2, ..., 9, 3, 5, 1, 7, 0, 7, 7, 6, 8],\n",
              "       [5, 1, 6, 4, 6, 4, 2, 1, 7, 5, ..., 5, 5, 0, 5, 9, 2, 9, 8, 3, 4],\n",
              "       [8, 1, 5, 8, 8, 2, 6, 5, 2, 6, ..., 8, 2, 6, 0, 6, 6, 7, 2, 3, 5],\n",
              "       [9, 3, 9, 4, 4, 0, 7, 0, 9, 6, ..., 4, 6, 9, 4, 2, 4, 3, 1, 8, 1],\n",
              "       [0, 9, 7, 6, 1, 2, 8, 6, 7, 1, ..., 0, 6, 1, 4, 1, 3, 9, 6, 9, 2],\n",
              "       [1, 6, 4, 8, 3, 3, 5, 3, 2, 1, ..., 5, 3, 8, 3, 5, 4, 6, 8, 0, 2]])"
            ]
          },
          "metadata": {
            "tags": []
          },
          "execution_count": 31
        }
      ]
    }
  ]
}